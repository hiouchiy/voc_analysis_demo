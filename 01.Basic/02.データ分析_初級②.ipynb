{
 "cells": [
  {
   "cell_type": "markdown",
   "metadata": {
    "application/vnd.databricks.v1+cell": {
     "cellMetadata": {},
     "inputWidgets": {},
     "nuid": "a28c2f0e-0b8c-48e7-9595-1a15e6bbeecc",
     "showTitle": false,
     "tableResultSettingsMap": {},
     "title": ""
    }
   },
   "source": [
    "# 初級②：属性 × コメントカテゴリ傾向分析\n",
    "\n",
    "このセクションでは、GOLD テーブルを用いて、コメントカテゴリ（特にネガティブ／ポジティブカテゴリ）が属性（年代・性別など）とどう対応しているかを探索します。  \n",
    "具体的には以下を目指します：\n",
    "\n",
    "- 属性別ネガティブカテゴリ傾向を把握  \n",
    "- ネガティブカテゴリーの構成を可視化  \n",
    "- ポジティブカテゴリ別に満足度差を確認  \n",
    "- 属性別ポジ／ネガ比率を比較  "
   ]
  },
  {
   "cell_type": "code",
   "execution_count": 0,
   "metadata": {
    "application/vnd.databricks.v1+cell": {
     "cellMetadata": {
      "byteLimit": 2048000,
      "rowLimit": 10000
     },
     "inputWidgets": {},
     "nuid": "fc900587-87fd-42cc-a98b-73070aa9ea9c",
     "showTitle": false,
     "tableResultSettingsMap": {},
     "title": ""
    }
   },
   "outputs": [],
   "source": [
    "CATALOG = \"hiroshi\"\n",
    "SCHEMA  = \"survey_analysis_simple\"\n",
    "\n",
    "# UCオブジェクト作成\n",
    "spark.sql(f\"USE CATALOG {CATALOG}\")\n",
    "spark.sql(f\"USE {SCHEMA}\")\n",
    "\n",
    "GOLD_TABLE_NAME = \"gold_survey_responses_final\""
   ]
  },
  {
   "cell_type": "code",
   "execution_count": 0,
   "metadata": {
    "application/vnd.databricks.v1+cell": {
     "cellMetadata": {
      "byteLimit": 2048000,
      "rowLimit": 10000
     },
     "inputWidgets": {},
     "nuid": "ebb955dc-e24e-4dc7-88d9-c91d24bf5741",
     "showTitle": false,
     "tableResultSettingsMap": {},
     "title": ""
    }
   },
   "outputs": [],
   "source": [
    "gold = spark.table(GOLD_TABLE_NAME)  # ← 実際の GOLD テーブル名\n",
    "display(gold.limit(10))\n",
    "gold.printSchema()"
   ]
  },
  {
   "cell_type": "markdown",
   "metadata": {
    "application/vnd.databricks.v1+cell": {
     "cellMetadata": {},
     "inputWidgets": {},
     "nuid": "cca0a7a9-dc3e-42c4-b332-d205995a5e52",
     "showTitle": false,
     "tableResultSettingsMap": {},
     "title": ""
    }
   },
   "source": [
    "## 属性 × ネガティブカテゴリ 件数クロス集計\n",
    "\n",
    "このセルでは、`age_group`（年代グループ）ごとに、各 `negative_feedback_category` の出現件数を集計します。  \n",
    "次のセルで「割合」に変換して比較できるような布石です。"
   ]
  },
  {
   "cell_type": "code",
   "execution_count": 0,
   "metadata": {
    "application/vnd.databricks.v1+cell": {
     "cellMetadata": {
      "byteLimit": 2048000,
      "rowLimit": 10000
     },
     "inputWidgets": {},
     "nuid": "6760c660-36ce-45f5-b575-b51d734df771",
     "showTitle": false,
     "tableResultSettingsMap": {},
     "title": ""
    }
   },
   "outputs": [],
   "source": [
    "from pyspark.sql import functions as F\n",
    "\n",
    "cross_neg = (\n",
    "    gold\n",
    "    .groupBy(\"age_group\", \"negative_feedback_category\")\n",
    "    .agg(F.count(\"*\").alias(\"cnt\"))\n",
    ")\n",
    "\n",
    "display(cross_neg)"
   ]
  },
  {
   "cell_type": "markdown",
   "metadata": {
    "application/vnd.databricks.v1+cell": {
     "cellMetadata": {},
     "inputWidgets": {},
     "nuid": "655b91ab-faf7-4fd1-af53-64f47316fa36",
     "showTitle": false,
     "tableResultSettingsMap": {},
     "title": ""
    }
   },
   "source": [
    "## 年代ごとのネガティブカテゴリ割合算出と表示\n",
    "\n",
    "このセルでは、年代別のネガティブ件数総数を取得し、クロス集計との結合を行って割合 `ratio` を算出します。  \n",
    "年代間で不満カテゴリの比率の違いを見るためのデータを作ります。"
   ]
  },
  {
   "cell_type": "code",
   "execution_count": 0,
   "metadata": {
    "application/vnd.databricks.v1+cell": {
     "cellMetadata": {
      "byteLimit": 2048000,
      "rowLimit": 10000
     },
     "inputWidgets": {},
     "nuid": "8bc6aaba-20b4-46d2-af1a-f1dbbc328cae",
     "showTitle": false,
     "tableResultSettingsMap": {},
     "title": ""
    }
   },
   "outputs": [],
   "source": [
    "# 年代ごとの総件数\n",
    "total_by_age = (\n",
    "    gold\n",
    "    .groupBy(\"age_group\")\n",
    "    .agg(F.count(\"*\").alias(\"total_cnt\"))\n",
    ")\n",
    "\n",
    "# 割合を出す\n",
    "cross_neg_ratio = (\n",
    "    cross_neg\n",
    "    .join(total_by_age, on=\"age_group\")\n",
    "    .withColumn(\"ratio\", F.col(\"cnt\") / F.col(\"total_cnt\"))\n",
    "    .orderBy(\"age_group\", F.desc(\"ratio\"))\n",
    ")\n",
    "\n",
    "display(cross_neg_ratio)"
   ]
  },
  {
   "cell_type": "markdown",
   "metadata": {
    "application/vnd.databricks.v1+cell": {
     "cellMetadata": {},
     "inputWidgets": {},
     "nuid": "fb8c4783-8626-4120-9137-693369ed782e",
     "showTitle": false,
     "tableResultSettingsMap": {},
     "title": ""
    }
   },
   "source": [
    "## 属性 × ネガティブカテゴリ割合を可視化（積み上げ棒グラフなど）\n",
    "\n",
    "このセルでは、先ほどの割合データ `cross_neg_ratio` を用いて、属性（年代など）ごとにネガティブカテゴリ構成を視覚化します。  \n",
    "ノートブック UI で “Visualization → Stacked Bar Chart” を選ぶと、年代ごとのカテゴリ構成が比較できます。"
   ]
  },
  {
   "cell_type": "code",
   "execution_count": 0,
   "metadata": {
    "application/vnd.databricks.v1+cell": {
     "cellMetadata": {
      "byteLimit": 2048000,
      "rowLimit": 10000
     },
     "inputWidgets": {},
     "nuid": "4d82cb1c-9f7c-407a-bd4d-08f63babb9ac",
     "showTitle": false,
     "tableResultSettingsMap": {},
     "title": ""
    }
   },
   "outputs": [],
   "source": [
    "display(cross_neg_ratio)"
   ]
  },
  {
   "cell_type": "markdown",
   "metadata": {
    "application/vnd.databricks.v1+cell": {
     "cellMetadata": {},
     "inputWidgets": {},
     "nuid": "64f73233-3b97-411c-af3d-c3991c178436",
     "showTitle": false,
     "tableResultSettingsMap": {},
     "title": ""
    }
   },
   "source": [
    "## ポジティブカテゴリ別満足度比較（件数と平均値）\n",
    "\n",
    "このセルでは、`positive_point_category` ごとに、満足度 (`satisfaction_int`) の平均と件数を算出し、  \n",
    "どのポジティブカテゴリを挙げた人ほど満足度が高いかを見ます。"
   ]
  },
  {
   "cell_type": "code",
   "execution_count": 0,
   "metadata": {
    "application/vnd.databricks.v1+cell": {
     "cellMetadata": {
      "byteLimit": 2048000,
      "rowLimit": 10000
     },
     "inputWidgets": {},
     "nuid": "a5c556ed-393e-4adb-977c-ebc30d5ec0b0",
     "showTitle": false,
     "tableResultSettingsMap": {},
     "title": ""
    }
   },
   "outputs": [],
   "source": [
    "pos_satis = (\n",
    "    gold\n",
    "    .groupBy(\"positive_point_category\")\n",
    "    .agg(\n",
    "        F.avg(\"satisfaction_int\").alias(\"avg_satisfaction\"),\n",
    "        F.count(\"*\").alias(\"cnt\")\n",
    "    )\n",
    "    .orderBy(F.desc(\"cnt\"))\n",
    ")\n",
    "\n",
    "display(pos_satis)"
   ]
  },
  {
   "cell_type": "markdown",
   "metadata": {
    "application/vnd.databricks.v1+cell": {
     "cellMetadata": {},
     "inputWidgets": {},
     "nuid": "7a11078c-3ef1-4505-858d-34a2e6c84af7",
     "showTitle": false,
     "tableResultSettingsMap": {},
     "title": ""
    }
   },
   "source": [
    "## ポジティブカテゴリ別満足度を可視化（棒グラフ）\n",
    "\n",
    "このセルでは、`pos_satis` の出力を用いて、  \n",
    "ノートブック UI 上で “Visualization → Bar chart” を選択することで、カテゴリ別満足度を視覚化できます。"
   ]
  },
  {
   "cell_type": "code",
   "execution_count": 0,
   "metadata": {
    "application/vnd.databricks.v1+cell": {
     "cellMetadata": {
      "byteLimit": 2048000,
      "rowLimit": 10000
     },
     "inputWidgets": {},
     "nuid": "2cb9758f-f87e-4374-9003-3c2323dc411d",
     "showTitle": false,
     "tableResultSettingsMap": {},
     "title": ""
    }
   },
   "outputs": [],
   "source": [
    "display(pos_satis)"
   ]
  },
  {
   "cell_type": "markdown",
   "metadata": {
    "application/vnd.databricks.v1+cell": {
     "cellMetadata": {},
     "inputWidgets": {},
     "nuid": "37a6b2a9-f385-4fa3-b328-ba77372b2001",
     "showTitle": false,
     "tableResultSettingsMap": {},
     "title": ""
    }
   },
   "source": [
    "## 属性別ポジ／ネガ比率分析\n",
    "\n",
    "このセルでは、性別（例）を属性に使い、  \n",
    "その属性層でポジティブコメントを持つかどうか、ネガティブを持つかどうかの比率を算出します。  \n",
    "比率比較によって、属性間の感想傾向差を見ます。"
   ]
  },
  {
   "cell_type": "code",
   "execution_count": 0,
   "metadata": {
    "application/vnd.databricks.v1+cell": {
     "cellMetadata": {
      "byteLimit": 2048000,
      "rowLimit": 10000
     },
     "inputWidgets": {},
     "nuid": "e2858e91-c4f3-4392-b384-691e6ade547a",
     "showTitle": false,
     "tableResultSettingsMap": {},
     "title": ""
    }
   },
   "outputs": [],
   "source": [
    "pos_neg_by_gender = (\n",
    "    gold\n",
    "    .groupBy(\"gender\")\n",
    "    .agg(\n",
    "        F.count(\"*\").alias(\"total_cnt\"),\n",
    "        F.sum(F.when(F.col(\"positive_point\").isNotNull() & (F.col(\"positive_point\") != \"\"), 1).otherwise(0)).alias(\"pos_count\"),\n",
    "        F.sum(F.when(F.col(\"negative_feedback\").isNotNull() & (F.col(\"negative_feedback\") != \"\"), 1).otherwise(0)).alias(\"neg_count\")\n",
    "    )\n",
    "    .withColumn(\"pos_ratio\", F.col(\"pos_count\") / F.col(\"total_cnt\"))\n",
    "    .withColumn(\"neg_ratio\", F.col(\"neg_count\") / F.col(\"total_cnt\"))\n",
    "    .orderBy(\"gender\")\n",
    ")\n",
    "\n",
    "display(pos_neg_by_gender)"
   ]
  },
  {
   "cell_type": "markdown",
   "metadata": {
    "application/vnd.databricks.v1+cell": {
     "cellMetadata": {},
     "inputWidgets": {},
     "nuid": "d719bfb3-e520-4bf2-994d-eb42db00aaf7",
     "showTitle": false,
     "tableResultSettingsMap": {},
     "title": ""
    }
   },
   "source": [
    "## ✅ この章のまとめと次への道筋\n",
    "\n",
    "**この章で得られる知見例**  \n",
    "- 年代別に、どのネガティブカテゴリが目立つか  \n",
    "- ポジティブカテゴリ別で満足度差はあるか  \n",
    "- 属性（性別など）ごとのポジ／ネガ出現比率の違い  \n",
    "\n",
    "**次に進むべき分析案**  \n",
    "- 属性＋ネガティブカテゴリを特徴量にして購入意向予測モデルをつくる  \n",
    "- LLM によるネガティブ文句の「本音・改善案要約」抽出  \n",
    "- 複数カテゴリ混在コメントの重みづけ・スコア化  \n",
    "\n",
    "この章でのクロス分析が、次フェーズ（モデル構築や LLM 分析）の足掛かりになるよ。"
   ]
  }
 ],
 "metadata": {
  "application/vnd.databricks.v1+notebook": {
   "computePreferences": null,
   "dashboards": [],
   "environmentMetadata": {
    "base_environment": "",
    "environment_version": "4"
   },
   "inputWidgetPreferences": null,
   "language": "python",
   "notebookMetadata": {
    "pythonIndentUnit": 4
   },
   "notebookName": "02.データ分析_初級②",
   "widgets": {}
  },
  "language_info": {
   "name": "python"
  }
 },
 "nbformat": 4,
 "nbformat_minor": 0
}
