{
 "cells": [
  {
   "cell_type": "markdown",
   "metadata": {
    "application/vnd.databricks.v1+cell": {
     "cellMetadata": {},
     "inputWidgets": {},
     "nuid": "a28c2f0e-0b8c-48e7-9595-1a15e6bbeecc",
     "showTitle": false,
     "tableResultSettingsMap": {},
     "title": ""
    }
   },
   "source": [
    "# 中級：購入意向予測モデル構築（SparkML）\n",
    "\n",
    "この章では、GOLD テーブルの属性・感情情報を使って、  \n",
    "「購入意向（purchase_intent）」を予測する機械学習モデルを作ります。\n",
    "\n",
    "手順の流れはこう：\n",
    "1. 特徴量選定と前処理  \n",
    "2. 訓練データ／検証データ分割  \n",
    "3. SparkML パイプライン構築  \n",
    "4. モデル学習／予測  \n",
    "5. 評価（精度、F1スコアなど）  \n",
    "6. モデルを使って新規予測も可能\n",
    "\n",
    "シンプルなモデル（例えば LogisticRegression や RandomForest）から始めよう。"
   ]
  },
  {
   "cell_type": "code",
   "execution_count": 0,
   "metadata": {
    "application/vnd.databricks.v1+cell": {
     "cellMetadata": {
      "byteLimit": 2048000,
      "rowLimit": 10000
     },
     "inputWidgets": {},
     "nuid": "fc900587-87fd-42cc-a98b-73070aa9ea9c",
     "showTitle": false,
     "tableResultSettingsMap": {},
     "title": ""
    }
   },
   "outputs": [],
   "source": [
    "CATALOG = \"hiroshi\"\n",
    "SCHEMA  = \"survey_analysis_simple\"\n",
    "\n",
    "# UCオブジェクト作成\n",
    "spark.sql(f\"USE CATALOG {CATALOG}\")\n",
    "spark.sql(f\"USE {SCHEMA}\")\n",
    "\n",
    "GOLD_TABLE_NAME = \"gold_survey_responses_final\""
   ]
  },
  {
   "cell_type": "markdown",
   "metadata": {
    "application/vnd.databricks.v1+cell": {
     "cellMetadata": {},
     "inputWidgets": {},
     "nuid": "136f83a9-4fe8-46e9-9fb5-efe9608c7889",
     "showTitle": false,
     "tableResultSettingsMap": {},
     "title": ""
    }
   },
   "source": [
    "## 必要ライブラリのインポートと GOLD データの取得\n",
    "\n",
    "このセルでは SparkML に必要なクラスをインポートし、GOLD テーブルを読み込んで準備します。"
   ]
  },
  {
   "cell_type": "code",
   "execution_count": 0,
   "metadata": {
    "application/vnd.databricks.v1+cell": {
     "cellMetadata": {
      "byteLimit": 2048000,
      "rowLimit": 10000
     },
     "inputWidgets": {},
     "nuid": "e2d92a4d-b949-4472-a4d6-8318c43c962b",
     "showTitle": false,
     "tableResultSettingsMap": {},
     "title": ""
    }
   },
   "outputs": [],
   "source": [
    "from pyspark.ml import Pipeline\n",
    "from pyspark.ml.feature import StringIndexer, OneHotEncoder, VectorAssembler\n",
    "from pyspark.ml.classification import RandomForestClassifier, LogisticRegression\n",
    "from pyspark.ml.evaluation import MulticlassClassificationEvaluator\n",
    "from pyspark.sql import functions as F"
   ]
  },
  {
   "cell_type": "code",
   "execution_count": 0,
   "metadata": {
    "application/vnd.databricks.v1+cell": {
     "cellMetadata": {
      "byteLimit": 2048000,
      "rowLimit": 10000
     },
     "inputWidgets": {},
     "nuid": "ebb955dc-e24e-4dc7-88d9-c91d24bf5741",
     "showTitle": false,
     "tableResultSettingsMap": {},
     "title": ""
    }
   },
   "outputs": [],
   "source": [
    "gold = spark.table(GOLD_TABLE_NAME)  # ← 実際の GOLD テーブル名\n",
    "display(gold.limit(10))\n",
    "gold.printSchema()"
   ]
  },
  {
   "cell_type": "markdown",
   "metadata": {
    "application/vnd.databricks.v1+cell": {
     "cellMetadata": {},
     "inputWidgets": {},
     "nuid": "cca0a7a9-dc3e-42c4-b332-d205995a5e52",
     "showTitle": false,
     "tableResultSettingsMap": {},
     "title": ""
    }
   },
   "source": [
    "## 特徴量になるカテゴリ列を数値化（StringIndexer + OneHotEncoder）\n",
    "\n",
    "このセルでは、カテゴリ変数（例: age_group, gender, region, positive_point_category, negative_feedback_category 等）を  \n",
    "機械学習で使える形式（数値・ベクトル）に変換する処理を準備します。"
   ]
  },
  {
   "cell_type": "code",
   "execution_count": 0,
   "metadata": {
    "application/vnd.databricks.v1+cell": {
     "cellMetadata": {
      "byteLimit": 2048000,
      "rowLimit": 10000
     },
     "inputWidgets": {},
     "nuid": "6760c660-36ce-45f5-b575-b51d734df771",
     "showTitle": false,
     "tableResultSettingsMap": {},
     "title": ""
    }
   },
   "outputs": [],
   "source": [
    "# 例で使う列\n",
    "categorical_cols = [\"age_group\", \"gender\", \"region\",\n",
    "                    \"positive_point_category\", \"negative_feedback_category\"]\n",
    "\n",
    "indexers = [StringIndexer(inputCol=c, outputCol=c + \"_idx\", handleInvalid=\"keep\") for c in categorical_cols]\n",
    "encoders = [OneHotEncoder(inputCol=c + \"_idx\", outputCol=c + \"_vec\") for c in categorical_cols]\n",
    "\n",
    "# 数値列もそのまま使えるなら残す\n",
    "numeric_cols = [\"satisfaction_int\"]  # 他にも追加できる\n",
    "\n",
    "feature_cols = [c + \"_vec\" for c in categorical_cols] + numeric_cols"
   ]
  },
  {
   "cell_type": "markdown",
   "metadata": {
    "application/vnd.databricks.v1+cell": {
     "cellMetadata": {},
     "inputWidgets": {},
     "nuid": "655b91ab-faf7-4fd1-af53-64f47316fa36",
     "showTitle": false,
     "tableResultSettingsMap": {},
     "title": ""
    }
   },
   "source": [
    "## 特徴ベクトルをまとめて \"features\" 列に\n",
    "\n",
    "このセルでは、OneHotEncoder 出力 + 数値列を `VectorAssembler` で結合して、  \n",
    "最終的な入力特徴量列 `features` を作ります。"
   ]
  },
  {
   "cell_type": "code",
   "execution_count": 0,
   "metadata": {
    "application/vnd.databricks.v1+cell": {
     "cellMetadata": {
      "byteLimit": 2048000,
      "rowLimit": 10000
     },
     "inputWidgets": {},
     "nuid": "8bc6aaba-20b4-46d2-af1a-f1dbbc328cae",
     "showTitle": false,
     "tableResultSettingsMap": {},
     "title": ""
    }
   },
   "outputs": [],
   "source": [
    "assembler = VectorAssembler(inputCols=feature_cols, outputCol=\"features\", handleInvalid=\"keep\")"
   ]
  },
  {
   "cell_type": "markdown",
   "metadata": {
    "application/vnd.databricks.v1+cell": {
     "cellMetadata": {},
     "inputWidgets": {},
     "nuid": "fb8c4783-8626-4120-9137-693369ed782e",
     "showTitle": false,
     "tableResultSettingsMap": {},
     "title": ""
    }
   },
   "source": [
    "## ターゲットラベル列を数値化（StringIndexer）\n",
    "\n",
    "このセルでは、目的変数 `purchase_intent` を数値ラベルに変換して `label` 列を作ります。"
   ]
  },
  {
   "cell_type": "code",
   "execution_count": 0,
   "metadata": {
    "application/vnd.databricks.v1+cell": {
     "cellMetadata": {
      "byteLimit": 2048000,
      "rowLimit": 10000
     },
     "inputWidgets": {},
     "nuid": "4d82cb1c-9f7c-407a-bd4d-08f63babb9ac",
     "showTitle": false,
     "tableResultSettingsMap": {},
     "title": ""
    }
   },
   "outputs": [],
   "source": [
    "label_indexer = StringIndexer(inputCol=\"purchase_intent\", outputCol=\"label\", handleInvalid=\"keep\")"
   ]
  },
  {
   "cell_type": "markdown",
   "metadata": {
    "application/vnd.databricks.v1+cell": {
     "cellMetadata": {},
     "inputWidgets": {},
     "nuid": "64f73233-3b97-411c-af3d-c3991c178436",
     "showTitle": false,
     "tableResultSettingsMap": {},
     "title": ""
    }
   },
   "source": [
    "## 訓練／検証データ分割とパイプライン構築\n",
    "\n",
    "このセルでは、データを訓練セット／検証セットに分け、  \n",
    "前処理 + 分類器を含む SparkML パイプラインを定義します。"
   ]
  },
  {
   "cell_type": "code",
   "execution_count": 0,
   "metadata": {
    "application/vnd.databricks.v1+cell": {
     "cellMetadata": {
      "byteLimit": 2048000,
      "rowLimit": 10000
     },
     "inputWidgets": {},
     "nuid": "a5c556ed-393e-4adb-977c-ebc30d5ec0b0",
     "showTitle": false,
     "tableResultSettingsMap": {},
     "title": ""
    }
   },
   "outputs": [],
   "source": [
    "train_df, test_df = gold.randomSplit([0.8, 0.2], seed=42)\n",
    "\n",
    "# モデル選択（ここでは RandomForest を例に）\n",
    "rf = RandomForestClassifier(featuresCol=\"features\", labelCol=\"label\", numTrees=50)\n",
    "\n",
    "pipeline = Pipeline(stages=indexers + encoders + [assembler, label_indexer, rf])"
   ]
  },
  {
   "cell_type": "markdown",
   "metadata": {
    "application/vnd.databricks.v1+cell": {
     "cellMetadata": {},
     "inputWidgets": {},
     "nuid": "7a11078c-3ef1-4505-858d-34a2e6c84af7",
     "showTitle": false,
     "tableResultSettingsMap": {},
     "title": ""
    }
   },
   "source": [
    "## モデル学習と予測\n",
    "\n",
    "このセルでは、`pipeline.fit()` によってモデルを学習させ、  \n",
    "検証データに対して予測を行います。"
   ]
  },
  {
   "cell_type": "code",
   "execution_count": 0,
   "metadata": {
    "application/vnd.databricks.v1+cell": {
     "cellMetadata": {
      "byteLimit": 2048000,
      "rowLimit": 10000
     },
     "inputWidgets": {},
     "nuid": "2cb9758f-f87e-4374-9003-3c2323dc411d",
     "showTitle": false,
     "tableResultSettingsMap": {},
     "title": ""
    }
   },
   "outputs": [],
   "source": [
    "model = pipeline.fit(train_df)\n",
    "pred_df = model.transform(test_df)\n",
    "display(pred_df.select(\"purchase_intent\", \"label\", \"prediction\", \"probability\").limit(20))"
   ]
  },
  {
   "cell_type": "markdown",
   "metadata": {
    "application/vnd.databricks.v1+cell": {
     "cellMetadata": {},
     "inputWidgets": {},
     "nuid": "37a6b2a9-f385-4fa3-b328-ba77372b2001",
     "showTitle": false,
     "tableResultSettingsMap": {},
     "title": ""
    }
   },
   "source": [
    "## モデル評価（精度、F1スコアなど）\n",
    "\n",
    "このセルでは、`MulticlassClassificationEvaluator` を使って  \n",
    "accuracy, f1, weightedPrecision, weightedRecall などを計算してモデル性能を評価します。"
   ]
  },
  {
   "cell_type": "code",
   "execution_count": 0,
   "metadata": {
    "application/vnd.databricks.v1+cell": {
     "cellMetadata": {
      "byteLimit": 2048000,
      "rowLimit": 10000
     },
     "inputWidgets": {},
     "nuid": "e2858e91-c4f3-4392-b384-691e6ade547a",
     "showTitle": false,
     "tableResultSettingsMap": {},
     "title": ""
    }
   },
   "outputs": [],
   "source": [
    "evaluator = MulticlassClassificationEvaluator(labelCol=\"label\", predictionCol=\"prediction\")\n",
    "\n",
    "for metric in [\"accuracy\", \"f1\", \"weightedPrecision\", \"weightedRecall\"]:\n",
    "    score = evaluator.setMetricName(metric).evaluate(pred_df)\n",
    "    print(f\"{metric}: {score:.4f}\")"
   ]
  },
  {
   "cell_type": "markdown",
   "metadata": {
    "application/vnd.databricks.v1+cell": {
     "cellMetadata": {},
     "inputWidgets": {},
     "nuid": "d719bfb3-e520-4bf2-994d-eb42db00aaf7",
     "showTitle": false,
     "tableResultSettingsMap": {},
     "title": ""
    }
   },
   "source": [
    "## ✅ この章のまとめと振り返り\n",
    "\n",
    "- 属性 + 感情カテゴリ情報を特徴量として、購入意向を予測するモデルを構築した  \n",
    "- 評価指標を見ながら、どの特徴が効いているか仮説を立てる  \n",
    "- 次のステップとしては、ハイパーパラメータチューニング（CrossValidator）、特徴選択、モデル比較（LogisticRegression / GBT / XGBoost 等）も試せる  \n",
    "- また、学習済モデルを使って「この属性なら購入意向は何％か」予測出力・可視化するフェーズに進める  \n",
    "\n",
    "このモデル構築が、実務で使える予測系分析の入口になるよ。  "
   ]
  },
  {
   "cell_type": "code",
   "execution_count": 0,
   "metadata": {
    "application/vnd.databricks.v1+cell": {
     "cellMetadata": {},
     "inputWidgets": {},
     "nuid": "702832c2-234c-467a-9579-37c8423729f4",
     "showTitle": false,
     "tableResultSettingsMap": {},
     "title": ""
    }
   },
   "outputs": [],
   "source": []
  }
 ],
 "metadata": {
  "application/vnd.databricks.v1+notebook": {
   "computePreferences": null,
   "dashboards": [],
   "environmentMetadata": {
    "base_environment": "",
    "environment_version": "4"
   },
   "inputWidgetPreferences": null,
   "language": "python",
   "notebookMetadata": {
    "pythonIndentUnit": 4
   },
   "notebookName": "02.データ分析_中級①",
   "widgets": {}
  },
  "language_info": {
   "name": "python"
  }
 },
 "nbformat": 4,
 "nbformat_minor": 0
}
