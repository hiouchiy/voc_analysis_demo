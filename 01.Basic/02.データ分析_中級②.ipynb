{
 "cells": [
  {
   "cell_type": "markdown",
   "metadata": {
    "application/vnd.databricks.v1+cell": {
     "cellMetadata": {},
     "inputWidgets": {},
     "nuid": "a28c2f0e-0b8c-48e7-9595-1a15e6bbeecc",
     "showTitle": false,
     "tableResultSettingsMap": {},
     "title": ""
    }
   },
   "source": [
    "# 中級：クラスタリング（K-Means）によるユーザーセグメント抽出\n",
    "\n",
    "この章では、ラベル（購入意向など）を使わずに、ユーザーの特徴（属性＋感情カテゴリ）をもとに  \n",
    "似たユーザー群をクラスタリングして、セグメントを発見する分析をします。\n",
    "\n",
    "ゴールはこんなこと：\n",
    "- ユーザー群ごとのプロファイル（年齢構成、カテゴリ傾向、満足度の傾向など）を把握  \n",
    "- 各クラスタの特徴をマーケティング仮説に結びつける  \n",
    "- モデルを使って新規ユーザーのクラスタを予測できるようにする  \n",
    "\n",
    "使う手法：SparkML の `KMeans` クラス（`pyspark.ml.clustering.KMeans`）  [oai_citation:0‡api-docs.databricks.com](https://api-docs.databricks.com/python/pyspark/latest/api/pyspark.ml.clustering.KMeans.html?utm_source=chatgpt.com)"
   ]
  },
  {
   "cell_type": "code",
   "execution_count": 0,
   "metadata": {
    "application/vnd.databricks.v1+cell": {
     "cellMetadata": {
      "byteLimit": 2048000,
      "rowLimit": 10000
     },
     "inputWidgets": {},
     "nuid": "fc900587-87fd-42cc-a98b-73070aa9ea9c",
     "showTitle": false,
     "tableResultSettingsMap": {},
     "title": ""
    }
   },
   "outputs": [],
   "source": [
    "CATALOG = \"hiroshi\"\n",
    "SCHEMA  = \"survey_analysis_simple\"\n",
    "\n",
    "# UCオブジェクト作成\n",
    "spark.sql(f\"USE CATALOG {CATALOG}\")\n",
    "spark.sql(f\"USE {SCHEMA}\")\n",
    "\n",
    "GOLD_TABLE_NAME = \"gold_survey_responses_final\""
   ]
  },
  {
   "cell_type": "markdown",
   "metadata": {
    "application/vnd.databricks.v1+cell": {
     "cellMetadata": {},
     "inputWidgets": {},
     "nuid": "136f83a9-4fe8-46e9-9fb5-efe9608c7889",
     "showTitle": false,
     "tableResultSettingsMap": {},
     "title": ""
    }
   },
   "source": [
    "## 必要モジュール読み込みとデータ取得\n",
    "\n",
    "このセルでは、クラスタリングに必要な SparkML モジュールをインポートし、  \n",
    "GOLD テーブルを取得してクラスタリング対象データを準備します。"
   ]
  },
  {
   "cell_type": "code",
   "execution_count": 0,
   "metadata": {
    "application/vnd.databricks.v1+cell": {
     "cellMetadata": {
      "byteLimit": 2048000,
      "rowLimit": 10000
     },
     "inputWidgets": {},
     "nuid": "e2d92a4d-b949-4472-a4d6-8318c43c962b",
     "showTitle": false,
     "tableResultSettingsMap": {},
     "title": ""
    }
   },
   "outputs": [],
   "source": [
    "from pyspark.ml.clustering import KMeans\n",
    "from pyspark.ml.feature import StringIndexer, OneHotEncoder, VectorAssembler\n",
    "from pyspark.sql import functions as F"
   ]
  },
  {
   "cell_type": "code",
   "execution_count": 0,
   "metadata": {
    "application/vnd.databricks.v1+cell": {
     "cellMetadata": {
      "byteLimit": 2048000,
      "rowLimit": 10000
     },
     "inputWidgets": {},
     "nuid": "ebb955dc-e24e-4dc7-88d9-c91d24bf5741",
     "showTitle": false,
     "tableResultSettingsMap": {},
     "title": ""
    }
   },
   "outputs": [],
   "source": [
    "gold = spark.table(GOLD_TABLE_NAME)  # ← 実際の GOLD テーブル名\n",
    "display(gold.limit(10))\n",
    "gold.printSchema()"
   ]
  },
  {
   "cell_type": "markdown",
   "metadata": {
    "application/vnd.databricks.v1+cell": {
     "cellMetadata": {},
     "inputWidgets": {},
     "nuid": "cca0a7a9-dc3e-42c4-b332-d205995a5e52",
     "showTitle": false,
     "tableResultSettingsMap": {},
     "title": ""
    }
   },
   "source": [
    "## クラスタリングに使う特徴量列の選定とカテゴリ変換準備\n",
    "\n",
    "このセルでは、クラスタリングに使いたい列（カテゴリ変数、数値変数、感情カテゴリ列など）を選び、  \n",
    "カテゴリ変数を数値ベクトルに変換するための StringIndexer + OneHotEncoder を定義します。"
   ]
  },
  {
   "cell_type": "code",
   "execution_count": 0,
   "metadata": {
    "application/vnd.databricks.v1+cell": {
     "cellMetadata": {
      "byteLimit": 2048000,
      "rowLimit": 10000
     },
     "inputWidgets": {},
     "nuid": "6760c660-36ce-45f5-b575-b51d734df771",
     "showTitle": false,
     "tableResultSettingsMap": {},
     "title": ""
    }
   },
   "outputs": [],
   "source": [
    "categorical_cols = [\"age_group\", \"gender\", \"region\",\n",
    "                    \"positive_point_category\", \"negative_feedback_category\"]\n",
    "numeric_cols = [\"satisfaction_int\"]  # 数値特徴量例\n",
    "\n",
    "# StringIndexer と OneHotEncoder を組み立て\n",
    "indexers = [StringIndexer(inputCol=c, outputCol=c + \"_idx\", handleInvalid=\"keep\") for c in categorical_cols]\n",
    "encoders = [OneHotEncoder(inputCol=c + \"_idx\", outputCol=c + \"_vec\") for c in categorical_cols]\n",
    "\n",
    "feature_cols = [c + \"_vec\" for c in categorical_cols] + numeric_cols"
   ]
  },
  {
   "cell_type": "markdown",
   "metadata": {
    "application/vnd.databricks.v1+cell": {
     "cellMetadata": {},
     "inputWidgets": {},
     "nuid": "655b91ab-faf7-4fd1-af53-64f47316fa36",
     "showTitle": false,
     "tableResultSettingsMap": {},
     "title": ""
    }
   },
   "source": [
    "## 特徴量ベクトル “features” 列を作成（VectorAssembler）\n",
    "\n",
    "このセルでは index + encoding 出力と数値列をまとめて `features` ベクトルに変換します。"
   ]
  },
  {
   "cell_type": "code",
   "execution_count": 0,
   "metadata": {
    "application/vnd.databricks.v1+cell": {
     "cellMetadata": {
      "byteLimit": 2048000,
      "rowLimit": 10000
     },
     "inputWidgets": {},
     "nuid": "8bc6aaba-20b4-46d2-af1a-f1dbbc328cae",
     "showTitle": false,
     "tableResultSettingsMap": {},
     "title": ""
    }
   },
   "outputs": [],
   "source": [
    "assembler = VectorAssembler(inputCols=feature_cols, outputCol=\"features\", handleInvalid=\"keep\")"
   ]
  },
  {
   "cell_type": "markdown",
   "metadata": {
    "application/vnd.databricks.v1+cell": {
     "cellMetadata": {},
     "inputWidgets": {},
     "nuid": "fb8c4783-8626-4120-9137-693369ed782e",
     "showTitle": false,
     "tableResultSettingsMap": {},
     "title": ""
    }
   },
   "source": [
    "## 前処理とクラスタリングモデルを組み合わせたパイプライン構築\n",
    "\n",
    "このセルでは、indexer → encoder → assembler → KMeans という流れのパイプラインを構築します。  \n",
    "クラスタ数 `k` は仮で 3〜5 程度から試してみるのが一般的。"
   ]
  },
  {
   "cell_type": "code",
   "execution_count": 0,
   "metadata": {
    "application/vnd.databricks.v1+cell": {
     "cellMetadata": {
      "byteLimit": 2048000,
      "rowLimit": 10000
     },
     "inputWidgets": {},
     "nuid": "4d82cb1c-9f7c-407a-bd4d-08f63babb9ac",
     "showTitle": false,
     "tableResultSettingsMap": {},
     "title": ""
    }
   },
   "outputs": [],
   "source": [
    "# 例：k = 4 クラスタ\n",
    "k = 4\n",
    "kmeans = KMeans(featuresCol=\"features\", predictionCol=\"cluster\", k=k, seed=42)\n",
    "\n",
    "from pyspark.ml import Pipeline\n",
    "pipeline = Pipeline(stages=indexers + encoders + [assembler, kmeans])"
   ]
  },
  {
   "cell_type": "markdown",
   "metadata": {
    "application/vnd.databricks.v1+cell": {
     "cellMetadata": {},
     "inputWidgets": {},
     "nuid": "64f73233-3b97-411c-af3d-c3991c178436",
     "showTitle": false,
     "tableResultSettingsMap": {},
     "title": ""
    }
   },
   "source": [
    "## パイプライン学習とクラスタ予測\n",
    "\n",
    "このセルではデータ全体または訓練データを使ってモデル学習を行い、  \n",
    "各ユーザーにクラスタを割り当てた DataFrame を出力します。"
   ]
  },
  {
   "cell_type": "code",
   "execution_count": 0,
   "metadata": {
    "application/vnd.databricks.v1+cell": {
     "cellMetadata": {
      "byteLimit": 2048000,
      "rowLimit": 10000
     },
     "inputWidgets": {},
     "nuid": "a5c556ed-393e-4adb-977c-ebc30d5ec0b0",
     "showTitle": false,
     "tableResultSettingsMap": {},
     "title": ""
    }
   },
   "outputs": [],
   "source": [
    "model = pipeline.fit(gold)\n",
    "clustered = model.transform(gold).select(\"*\", \"cluster\")\n",
    "display(clustered.limit(20))"
   ]
  },
  {
   "cell_type": "markdown",
   "metadata": {
    "application/vnd.databricks.v1+cell": {
     "cellMetadata": {},
     "inputWidgets": {},
     "nuid": "7a11078c-3ef1-4505-858d-34a2e6c84af7",
     "showTitle": false,
     "tableResultSettingsMap": {},
     "title": ""
    }
   },
   "source": [
    "## クラスタ中心とクラスタごとの特徴確認\n",
    "\n",
    "このセルでは、KMeans モデルからクラスタ中心（centers）を取得し、  \n",
    "各クラスタの件数・平均満足度などを集計してプロファイルを確認します。"
   ]
  },
  {
   "cell_type": "code",
   "execution_count": 0,
   "metadata": {
    "application/vnd.databricks.v1+cell": {
     "cellMetadata": {
      "byteLimit": 2048000,
      "rowLimit": 10000
     },
     "inputWidgets": {},
     "nuid": "2cb9758f-f87e-4374-9003-3c2323dc411d",
     "showTitle": false,
     "tableResultSettingsMap": {},
     "title": ""
    }
   },
   "outputs": [],
   "source": [
    "# クラスタ中心\n",
    "centers = model.stages[-1].clusterCenters()\n",
    "print(\"Cluster centers:\", centers)\n",
    "\n",
    "# クラスタごとの集計\n",
    "cluster_summary = (\n",
    "    clustered.groupBy(\"cluster\")\n",
    "    .agg(\n",
    "        F.count(\"*\").alias(\"cnt\"),\n",
    "        F.avg(\"satisfaction_int\").alias(\"avg_satisfaction\")\n",
    "    )\n",
    "    .orderBy(\"cluster\")\n",
    ")\n",
    "display(cluster_summary)"
   ]
  },
  {
   "cell_type": "markdown",
   "metadata": {
    "application/vnd.databricks.v1+cell": {
     "cellMetadata": {},
     "inputWidgets": {},
     "nuid": "37a6b2a9-f385-4fa3-b328-ba77372b2001",
     "showTitle": false,
     "tableResultSettingsMap": {},
     "title": ""
    }
   },
   "source": [
    "## クラスタごと属性・カテゴリ傾向を可視化\n",
    "\n",
    "このセルでは、クラスタ毎に年代構成やネガティブカテゴリ出現率を可視化できるような集計を行います。  \n",
    "例として、クラスタ × negative_feedback_category 件数割合を出します。"
   ]
  },
  {
   "cell_type": "code",
   "execution_count": 0,
   "metadata": {
    "application/vnd.databricks.v1+cell": {
     "cellMetadata": {
      "byteLimit": 2048000,
      "rowLimit": 10000
     },
     "inputWidgets": {},
     "nuid": "e2858e91-c4f3-4392-b384-691e6ade547a",
     "showTitle": false,
     "tableResultSettingsMap": {},
     "title": ""
    }
   },
   "outputs": [],
   "source": [
    "# クラスタ × ネガティブカテゴリ 件数割合\n",
    "cluster_cat = (\n",
    "    clustered.groupBy(\"cluster\", \"negative_feedback_category\")\n",
    "    .agg(F.count(\"*\").alias(\"cnt\"))\n",
    ")\n",
    "\n",
    "cluster_tot = clustered.groupBy(\"cluster\").agg(F.count(\"*\").alias(\"total_cnt\"))\n",
    "\n",
    "cluster_cat_ratio = (\n",
    "    cluster_cat.join(cluster_tot, on=\"cluster\")\n",
    "    .withColumn(\"ratio\", F.col(\"cnt\") / F.col(\"total_cnt\"))\n",
    "    .orderBy(\"cluster\", F.desc(\"ratio\"))\n",
    ")\n",
    "\n",
    "display(cluster_cat_ratio)"
   ]
  },
  {
   "cell_type": "markdown",
   "metadata": {
    "application/vnd.databricks.v1+cell": {
     "cellMetadata": {},
     "inputWidgets": {},
     "nuid": "d719bfb3-e520-4bf2-994d-eb42db00aaf7",
     "showTitle": false,
     "tableResultSettingsMap": {},
     "title": ""
    }
   },
   "source": [
    "## ✅ この章のまとめと活用アイデア\n",
    "\n",
    "このクラスタリングによって得られる洞察例：\n",
    "- 各クラスタの満足度傾向・カテゴリ傾向・属性傾向が見える  \n",
    "- 例えば「クラスタ1 は Flavor不満多め・中年男性中心」など仮説抽出  \n",
    "- マーケティングでターゲット別対応策の仮説を立てやすくなる  \n",
    "\n",
    "さらに発展させる案：\n",
    "- 最適なクラスタ数 k を “Elbow 手法” や “シルエットスコア” で見つける  \n",
    "- 学習済クラスタモデルを新規回答に適用して即座にクラスタ割り当てできるようにする  \n",
    "- クラスタを特徴量にして、購入意向モデルと併用してパーソナライズ施策立案  \n",
    "\n",
    "この章によって、ラベルなしでもデータ構造を可視化・仮説化する力を鍛えよう。"
   ]
  },
  {
   "cell_type": "code",
   "execution_count": 0,
   "metadata": {
    "application/vnd.databricks.v1+cell": {
     "cellMetadata": {},
     "inputWidgets": {},
     "nuid": "702832c2-234c-467a-9579-37c8423729f4",
     "showTitle": false,
     "tableResultSettingsMap": {},
     "title": ""
    }
   },
   "outputs": [],
   "source": []
  }
 ],
 "metadata": {
  "application/vnd.databricks.v1+notebook": {
   "computePreferences": null,
   "dashboards": [],
   "environmentMetadata": {
    "base_environment": "",
    "environment_version": "4"
   },
   "inputWidgetPreferences": null,
   "language": "python",
   "notebookMetadata": {
    "pythonIndentUnit": 4
   },
   "notebookName": "02.データ分析_中級②",
   "widgets": {}
  },
  "language_info": {
   "name": "python"
  }
 },
 "nbformat": 4,
 "nbformat_minor": 0
}
