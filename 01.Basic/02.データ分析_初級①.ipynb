{
 "cells": [
  {
   "cell_type": "markdown",
   "metadata": {
    "application/vnd.databricks.v1+cell": {
     "cellMetadata": {},
     "inputWidgets": {},
     "nuid": "dbed18c7-d28a-4b68-980f-4bf8409e928c",
     "showTitle": false,
     "tableResultSettingsMap": {},
     "title": ""
    }
   },
   "source": [
    "# 初級①：データ探索（EDA）＋可視化\n",
    "\n",
    "このセクションでは、GOLD テーブルを使って回答データを探索し、  \n",
    "集計・可視化を通じて傾向を把握します。\n",
    "\n",
    "目的：\n",
    "- 属性（年代・性別・地域など）別満足度の傾向を見る  \n",
    "- ネガティブコメントカテゴリの分布を確認  \n",
    "- 地域ごとのネガティブカテゴリ構成を比較  "
   ]
  },
  {
   "cell_type": "code",
   "execution_count": 0,
   "metadata": {
    "application/vnd.databricks.v1+cell": {
     "cellMetadata": {
      "byteLimit": 2048000,
      "rowLimit": 10000
     },
     "inputWidgets": {},
     "nuid": "750250e4-ab72-463c-9fbb-5df26fac1f15",
     "showTitle": false,
     "tableResultSettingsMap": {},
     "title": ""
    }
   },
   "outputs": [],
   "source": [
    "CATALOG = \"hiroshi\"\n",
    "SCHEMA  = \"survey_analysis_simple\"\n",
    "\n",
    "# UCオブジェクト作成\n",
    "spark.sql(f\"USE CATALOG {CATALOG}\")\n",
    "spark.sql(f\"USE {SCHEMA}\")\n",
    "\n",
    "GOLD_TABLE_NAME = \"gold_survey_responses_final\""
   ]
  },
  {
   "cell_type": "markdown",
   "metadata": {
    "application/vnd.databricks.v1+cell": {
     "cellMetadata": {},
     "inputWidgets": {},
     "nuid": "c8d16e34-8175-4777-8d99-8c887fdf76ef",
     "showTitle": false,
     "tableResultSettingsMap": {},
     "title": ""
    }
   },
   "source": [
    "## GOLD テーブル読み込み・構造確認\n",
    "\n",
    "このセルでは、GOLD テーブルを DataFrame として読み込み、  \n",
    "冒頭の数行とスキーマを表示して、どの列があるか、型は何かを確認します。"
   ]
  },
  {
   "cell_type": "code",
   "execution_count": 0,
   "metadata": {
    "application/vnd.databricks.v1+cell": {
     "cellMetadata": {
      "byteLimit": 2048000,
      "rowLimit": 10000
     },
     "inputWidgets": {},
     "nuid": "cbf23d24-7119-470a-8920-c614a659230c",
     "showTitle": false,
     "tableResultSettingsMap": {},
     "title": ""
    }
   },
   "outputs": [],
   "source": [
    "gold = spark.table(GOLD_TABLE_NAME)  # ← 実際の GOLD テーブル名\n",
    "display(gold.limit(10))\n",
    "gold.printSchema()"
   ]
  },
  {
   "cell_type": "code",
   "execution_count": 0,
   "metadata": {
    "application/vnd.databricks.v1+cell": {
     "cellMetadata": {
      "byteLimit": 2048000,
      "rowLimit": 10000
     },
     "inputWidgets": {},
     "nuid": "b9d9427a-c2b8-42a6-8709-def979360762",
     "showTitle": false,
     "tableResultSettingsMap": {},
     "title": ""
    }
   },
   "outputs": [],
   "source": [
    "from pyspark.sql import functions as F\n",
    "\n",
    "agg_df = (\n",
    "    gold\n",
    "    .groupBy(\"age_group\", \"gender\")\n",
    "    .agg(\n",
    "        F.count(\"*\").alias(\"count\"),\n",
    "        F.avg(\"satisfaction_int\").alias(\"avg_satisfaction\")\n",
    "    )\n",
    "    .orderBy(\"age_group\", \"gender\")\n",
    ")\n",
    "\n",
    "display(agg_df)"
   ]
  },
  {
   "cell_type": "markdown",
   "metadata": {
    "application/vnd.databricks.v1+cell": {
     "cellMetadata": {},
     "inputWidgets": {},
     "nuid": "7e69d142-e184-4f87-bd3b-82746224e578",
     "showTitle": false,
     "tableResultSettingsMap": {},
     "title": ""
    }
   },
   "source": [
    "## 年代 × 性別 ごとの満足度平均を集計・可視化準備\n",
    "\n",
    "このセルでは、`age_group` × `gender` ごとに件数と平均満足度 (`satisfaction_int`) を算出し、  \n",
    "その結果を表示します（後続セルで可視化できます）。"
   ]
  },
  {
   "cell_type": "code",
   "execution_count": 0,
   "metadata": {
    "application/vnd.databricks.v1+cell": {
     "cellMetadata": {
      "byteLimit": 2048000,
      "rowLimit": 10000
     },
     "inputWidgets": {},
     "nuid": "cb13f98e-c58a-4452-8aae-d1ce62cb1d49",
     "showTitle": false,
     "tableResultSettingsMap": {},
     "title": ""
    }
   },
   "outputs": [],
   "source": [
    "from pyspark.sql import functions as F\n",
    "\n",
    "agg_df = (\n",
    "    gold\n",
    "    .groupBy(\"age_group\", \"gender\")\n",
    "    .agg(\n",
    "        F.count(\"*\").alias(\"count\"),\n",
    "        F.avg(\"satisfaction_int\").alias(\"avg_satisfaction\")\n",
    "    )\n",
    "    .orderBy(\"age_group\", \"gender\")\n",
    ")\n",
    "\n",
    "display(agg_df)"
   ]
  },
  {
   "cell_type": "markdown",
   "metadata": {
    "application/vnd.databricks.v1+cell": {
     "cellMetadata": {},
     "inputWidgets": {},
     "nuid": "bbc27c4d-8b7c-4481-bba4-62e6b4a36696",
     "showTitle": false,
     "tableResultSettingsMap": {},
     "title": ""
    }
   },
   "source": [
    "## 属性別満足度の棒グラフ可視化\n",
    "\n",
    "このセルでは、先ほど集計した `agg_df` を使って、  \n",
    "ノートブック UI の `display()` により棒グラフ・チャート表示を可能にします。  \n",
    "チャートは “Bar chart” を選んで属性別満足度傾向を可視化します。"
   ]
  },
  {
   "cell_type": "code",
   "execution_count": 0,
   "metadata": {
    "application/vnd.databricks.v1+cell": {
     "cellMetadata": {
      "byteLimit": 2048000,
      "rowLimit": 10000
     },
     "inputWidgets": {},
     "nuid": "7ffc5830-3a84-41ae-b2cf-ac1a26917805",
     "showTitle": false,
     "tableResultSettingsMap": {
      "0": {
       "dataGridStateBlob": "{\"version\":1,\"tableState\":{\"columnPinning\":{\"left\":[\"#row_number#\"],\"right\":[]},\"columnSizing\":{},\"columnVisibility\":{}},\"settings\":{\"columns\":{}},\"syncTimestamp\":1760162807200}",
       "filterBlob": null,
       "queryPlanFiltersBlob": null,
       "tableResultIndex": 0
      }
     },
     "title": ""
    }
   },
   "outputs": [],
   "source": [
    "# display(agg_df) で DataFrame 表示済みなので、UI 上で Bar chart を選択すればグラフ表示される\n",
    "# 追加：チャート表示を再度強制するため、display(agg_df) をもう一度\n",
    "display(agg_df)"
   ]
  },
  {
   "cell_type": "markdown",
   "metadata": {
    "application/vnd.databricks.v1+cell": {
     "cellMetadata": {},
     "inputWidgets": {},
     "nuid": "a3d66ae7-873d-4e8a-b63c-223a1cbbf92e",
     "showTitle": false,
     "tableResultSettingsMap": {},
     "title": ""
    }
   },
   "source": [
    "## ネガティブコメントカテゴリの頻度集計・可視化準備\n",
    "\n",
    "このセルでは、`negative_feedback_category` ごとの出現件数を集計し、  \n",
    "カテゴリ分布を把握できる DataFrame を生成して表示します。"
   ]
  },
  {
   "cell_type": "code",
   "execution_count": 0,
   "metadata": {
    "application/vnd.databricks.v1+cell": {
     "cellMetadata": {
      "byteLimit": 2048000,
      "rowLimit": 10000
     },
     "inputWidgets": {},
     "nuid": "19e3fd29-60d7-47cc-ac3b-b2e56e23067f",
     "showTitle": false,
     "tableResultSettingsMap": {},
     "title": ""
    }
   },
   "outputs": [],
   "source": [
    "neg_df = (\n",
    "    gold\n",
    "    .groupBy(\"negative_feedback_category\")\n",
    "    .agg(F.count(\"*\").alias(\"cnt\"))\n",
    "    .orderBy(F.desc(\"cnt\"))\n",
    ")\n",
    "\n",
    "display(neg_df)"
   ]
  },
  {
   "cell_type": "markdown",
   "metadata": {
    "application/vnd.databricks.v1+cell": {
     "cellMetadata": {},
     "inputWidgets": {},
     "nuid": "82cb0757-86e9-440b-b7c5-58256e2f6c09",
     "showTitle": false,
     "tableResultSettingsMap": {},
     "title": ""
    }
   },
   "source": [
    "## ネガティブカテゴリ出現頻度の可視化\n",
    "\n",
    "このセルでは `neg_df` を使って、棒グラフなどでカテゴリの頻度分布を可視化します。  \n",
    "ノートブック UI で “Visualization → Bar chart” を選択することで視覚化できます。"
   ]
  },
  {
   "cell_type": "code",
   "execution_count": 0,
   "metadata": {
    "application/vnd.databricks.v1+cell": {
     "cellMetadata": {
      "byteLimit": 2048000,
      "rowLimit": 10000
     },
     "inputWidgets": {},
     "nuid": "3ef71487-4f38-46ec-b25e-b74c37e169b1",
     "showTitle": false,
     "tableResultSettingsMap": {},
     "title": ""
    }
   },
   "outputs": [],
   "source": [
    "display(neg_df)"
   ]
  },
  {
   "cell_type": "markdown",
   "metadata": {
    "application/vnd.databricks.v1+cell": {
     "cellMetadata": {},
     "inputWidgets": {},
     "nuid": "101cfb5b-4b57-4055-9c2d-0277faa8b896",
     "showTitle": false,
     "tableResultSettingsMap": {},
     "title": ""
    }
   },
   "source": [
    "## 地域別 × ネガティブカテゴリ割合の比較集計\n",
    "\n",
    "このセルでは、地域ごとにネガティブカテゴリごとの件数を出し、  \n",
    "その地域の総件数で割って割合（ratio）を出します。  \n",
    "これにより、地域間で“不満点の種類”に違いがあるかを見やすくします。"
   ]
  },
  {
   "cell_type": "code",
   "execution_count": 0,
   "metadata": {
    "application/vnd.databricks.v1+cell": {
     "cellMetadata": {
      "byteLimit": 2048000,
      "rowLimit": 10000
     },
     "inputWidgets": {},
     "nuid": "73e44203-4a74-4290-b0c0-81b019d038dd",
     "showTitle": false,
     "tableResultSettingsMap": {},
     "title": ""
    }
   },
   "outputs": [],
   "source": [
    "# 地域別カテゴリ別集計\n",
    "region_cat = (\n",
    "    gold\n",
    "    .groupBy(\"region\", \"negative_feedback_category\")\n",
    "    .agg(F.count(\"*\").alias(\"cnt\"))\n",
    ")\n",
    "\n",
    "# 地域別総件数\n",
    "region_tot = (\n",
    "    gold\n",
    "    .groupBy(\"region\")\n",
    "    .agg(F.count(\"*\").alias(\"total_cnt\"))\n",
    ")\n",
    "\n",
    "# 結合して割合列を計算\n",
    "region_cat_ratio = (\n",
    "    region_cat\n",
    "    .join(region_tot, on=\"region\")\n",
    "    .withColumn(\"ratio\", F.col(\"cnt\") / F.col(\"total_cnt\"))\n",
    "    .orderBy(\"region\", F.desc(\"ratio\"))\n",
    ")\n",
    "\n",
    "display(region_cat_ratio)"
   ]
  },
  {
   "cell_type": "markdown",
   "metadata": {
    "application/vnd.databricks.v1+cell": {
     "cellMetadata": {},
     "inputWidgets": {},
     "nuid": "ebab0f53-9889-4319-8147-6e15a40df8d5",
     "showTitle": false,
     "tableResultSettingsMap": {},
     "title": ""
    }
   },
   "source": [
    "## ✅ まとめ・次のステップ\n",
    "\n",
    "この章で得られる主な知見例：\n",
    "- 属性別（年代・性別など）の満足度傾向  \n",
    "- ネガティブコメントカテゴリの頻出度  \n",
    "- 地域ごとの不満カテゴリ構成の差異  \n",
    "\n",
    "次の章（初級② など）では、この集計基盤を使って以下に進めます：\n",
    "- 属性とネガティブカテゴリのクロス集計  \n",
    "- SparkML による「購入意向予測モデル」の構築  \n",
    "- LLM を使った要望文句の意味解析  \n",
    "\n",
    "この章で可視化・集計を通じて得た理解が、次の分析フェーズの基盤になります。"
   ]
  }
 ],
 "metadata": {
  "application/vnd.databricks.v1+notebook": {
   "computePreferences": null,
   "dashboards": [],
   "environmentMetadata": {
    "base_environment": "",
    "environment_version": "4"
   },
   "inputWidgetPreferences": null,
   "language": "python",
   "notebookMetadata": {
    "pythonIndentUnit": 4
   },
   "notebookName": "02.データ分析_初級①",
   "widgets": {}
  },
  "language_info": {
   "name": "python"
  }
 },
 "nbformat": 4,
 "nbformat_minor": 0
}
