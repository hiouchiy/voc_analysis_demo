{
 "cells": [
  {
   "cell_type": "markdown",
   "metadata": {
    "application/vnd.databricks.v1+cell": {
     "cellMetadata": {},
     "inputWidgets": {},
     "nuid": "fc0f0cc0-97c2-4676-9f01-973dfa7f5757",
     "showTitle": false,
     "tableResultSettingsMap": {},
     "title": ""
    }
   },
   "source": [
    "## Unity Catalogの準備"
   ]
  },
  {
   "cell_type": "code",
   "execution_count": 0,
   "metadata": {
    "application/vnd.databricks.v1+cell": {
     "cellMetadata": {
      "byteLimit": 2048000,
      "rowLimit": 10000
     },
     "inputWidgets": {},
     "nuid": "7a5f5ccb-cd18-4f0b-a200-2c1fa3f16369",
     "showTitle": false,
     "tableResultSettingsMap": {},
     "title": ""
    }
   },
   "outputs": [],
   "source": [
    "CATALOG = \"handson\"\n",
    "SCHEMA = \"survey_analysis\"\n",
    "TABLE = \"gold_survey_responses_final\"\n",
    "VOLUME = \"raw_data\""
   ]
  },
  {
   "cell_type": "code",
   "execution_count": 0,
   "metadata": {
    "application/vnd.databricks.v1+cell": {
     "cellMetadata": {
      "byteLimit": 2048000,
      "rowLimit": 10000
     },
     "inputWidgets": {},
     "nuid": "48ef2243-3ad3-47b8-86ea-ca78c0b362b9",
     "showTitle": false,
     "tableResultSettingsMap": {},
     "title": ""
    }
   },
   "outputs": [],
   "source": [
    "print(\"Unity Catalogオブジェクトを作成しています...\")\n",
    "\n",
    "# Catalog（カタログ）の作成\n",
    "spark.sql(f\"CREATE CATALOG IF NOT EXISTS {CATALOG}\")\n",
    "print(f\"  ✓ カタログ '{CATALOG}' を確認/作成しました\")\n",
    "\n",
    "# Catalogを使用対象として選択\n",
    "spark.sql(f\"USE CATALOG {CATALOG}\")\n",
    "print(f\"  ✓ カタログ '{CATALOG}' を選択しました\")\n",
    "\n",
    "# Schema（スキーマ）の作成\n",
    "spark.sql(f\"CREATE SCHEMA IF NOT EXISTS {SCHEMA}\")\n",
    "print(f\"  ✓ スキーマ '{SCHEMA}' を確認/作成しました\")\n",
    "\n",
    "# Schemaを使用対象として選択\n",
    "spark.sql(f\"USE {SCHEMA}\")\n",
    "print(f\"  ✓ スキーマ '{SCHEMA}' を選択しました\")\n",
    "\n",
    "# Volume（ボリューム）の作成\n",
    "spark.sql(f\"\"\"\n",
    "    CREATE VOLUME IF NOT EXISTS {VOLUME} \n",
    "    COMMENT 'アンケート生データの保存場所'\n",
    "\"\"\")\n",
    "print(f\"  ✓ ボリューム '{VOLUME}' を確認/作成しました\")\n",
    "\n",
    "print(\"\\n✓ Unity Catalogの準備が完了しました\")"
   ]
  },
  {
   "cell_type": "markdown",
   "metadata": {
    "application/vnd.databricks.v1+cell": {
     "cellMetadata": {},
     "inputWidgets": {},
     "nuid": "e2fc6756-d275-4bb6-ac5b-2273db4b6770",
     "showTitle": false,
     "tableResultSettingsMap": {},
     "title": ""
    }
   },
   "source": [
    "## テーブルデータファイルをUnity Catalog Volumeへコピー"
   ]
  },
  {
   "cell_type": "code",
   "execution_count": 0,
   "metadata": {
    "application/vnd.databricks.v1+cell": {
     "cellMetadata": {
      "byteLimit": 2048000,
      "rowLimit": 10000
     },
     "inputWidgets": {},
     "nuid": "71f9fcad-d6c0-48b9-b6bf-797106aa1a67",
     "showTitle": false,
     "tableResultSettingsMap": {},
     "title": ""
    }
   },
   "outputs": [],
   "source": [
    "import shutil\n",
    "\n",
    "src = \"../data/delta_export_data.csv\"\n",
    "dst = f\"/Volumes/{CATALOG}/{SCHEMA}/{VOLUME}/delta_export_data.csv\"\n",
    "shutil.copy(src, dst)"
   ]
  },
  {
   "cell_type": "markdown",
   "metadata": {
    "application/vnd.databricks.v1+cell": {
     "cellMetadata": {},
     "inputWidgets": {},
     "nuid": "26e2bcb4-b522-4eaf-9cc1-b86f4b2b1f3c",
     "showTitle": false,
     "tableResultSettingsMap": {},
     "title": ""
    }
   },
   "source": [
    "## テーブルを作成"
   ]
  },
  {
   "cell_type": "code",
   "execution_count": 0,
   "metadata": {
    "application/vnd.databricks.v1+cell": {
     "cellMetadata": {
      "byteLimit": 2048000,
      "rowLimit": 10000
     },
     "inputWidgets": {},
     "nuid": "fe5b3c8d-4b79-4658-a081-0bbaf1fcf84c",
     "showTitle": false,
     "tableResultSettingsMap": {},
     "title": ""
    }
   },
   "outputs": [],
   "source": [
    "# (1) テーブルを作成\n",
    "\n",
    "new_table_name = f\"{CATALOG}.{SCHEMA}.{TABLE}\"\n",
    "\n",
    "ddl_statement = f\"\"\"\n",
    "CREATE TABLE {new_table_name} (\n",
    "  id BIGINT COMMENT '回答一意識別子 (primary key)；feedback テーブルとの参照キー',\n",
    "  submitted_at TIMESTAMP COMMENT '回答提出日時（タイムスタンプ）',\n",
    "  age_group STRING COMMENT '年代グループ（例: u19, 20s, 30s, 40s, 50s, 60plus）',\n",
    "  gender STRING COMMENT '性別カテゴリ：male, female, other, no_answer',\n",
    "  occupation STRING COMMENT '職業カテゴリ（例: company_employee, student, homemaker, other）',\n",
    "  region STRING COMMENT '地域カテゴリ（hokkaido_to_hoku, kanto, chubu, kinki, chugoku_shikoku, kyushu_okinawa, overseas, no_answer）',\n",
    "  drives_weekly BOOLEAN COMMENT '週1 回以上運転するかどうか（真偽値）',\n",
    "  drinking_freq STRING COMMENT '普段の飲酒頻度：daily, weekly, monthly, never',\n",
    "  fav_alcohols_arr ARRAY<STRING> COMMENT '通常好む酒類（文字列、複数可）（ARRAY<STRING>）',\n",
    "  nonalc_freq STRING COMMENT 'ノンアル飲用頻度：first_time, sometimes, weekly',\n",
    "  health_reasons_arr ARRAY<STRING> COMMENT 'health_reasons を配列化したもの（ARRAY<STRING>）',\n",
    "  purchase_intent STRING COMMENT '購入意向カテゴリ：def_buy, maybe, unsure, no',\n",
    "  price_band STRING COMMENT '許容価格帯カテゴリ（例: under199, 200_249, 250_299, 300_349, 350plus）',\n",
    "  satisfaction_int INT COMMENT '満足度を整数型に変換したもの（1～5 の INT）',\n",
    "  free_comment STRING COMMENT '自由記述による感想文',\n",
    "  positive_point STRING COMMENT 'AI 抽出によるポジティブ文句群（ARRAY<STRING>）',\n",
    "  negative_feedback STRING COMMENT 'AI 抽出によるネガティブ・改善要望文句群（ARRAY<STRING>）',\n",
    "  scene STRING COMMENT '飲用シーン語句（ARRAY<STRING>）',\n",
    "  positive_point_category STRING COMMENT '\n",
    "positive_pointの分類カテゴリ：以下 18 種類のいずれか。  \n",
    "1. Appearance：外観・見た目（色・透明度・泡質）  \n",
    "2. Aroma：香り（ホップ香・モルト香・果実香・オフ香）  \n",
    "3. Flavor：味覚（甘味・苦味・酸味・コク・バランス）  \n",
    "4. MouthfeelCarbonation：口当たり・炭酸感（泡・ガス強度・舌触り）  \n",
    "5. DrinkabilityAftertaste：飲みやすさ・後味（ゴクゴク・キレ・残留感）  \n",
    "6. ABV：アルコール度数への言及（例: “0.00%”）  \n",
    "7. CaloriesCarbs：カロリー・糖質関係の言及  \n",
    "8. AdditivesAllergen：添加物・香料・アレルゲンの言及  \n",
    "9. Ingredients：原材料・素材・産地・自然由来  \n",
    "10. PackagingDesign：包装・ラベル・外装デザイン  \n",
    "11. PackServingFormat：容量・パッケージ形態（缶・瓶・パック数）  \n",
    "12. ShelfLifeStorage：保存性・賞味期限・開封後品質  \n",
    "13. PriceValue：価格・コスパ・値ごろ感  \n",
    "14. Availability：流通性・店舗・EC 販売可能性  \n",
    "15. PromotionVisibility：販促・広告・POP・訴求力  \n",
    "16. BrandImageStory：ブランドイメージ・理念・物語性  \n",
    "17. SocialAcceptability：運転中・妊娠中などでも飲める許容感  \n",
    "18. SustainabilityEthics：環境配慮・サステナビリティ・倫理性',\n",
    "  positive_point_confidence STRING COMMENT 'positive_point_category に対するConfidence Score。分類信頼度（0.0～1.0）',\n",
    "  negative_feedback_category STRING COMMENT '\n",
    "negative_feedbackの分類カテゴリ：以下 18 種類のいずれか。  \n",
    "1. Appearance：外観・見た目（色・透明度・泡質）  \n",
    "2. Aroma：香り（ホップ香・モルト香・果実香・オフ香）  \n",
    "3. Flavor：味覚（甘味・苦味・酸味・コク・バランス）  \n",
    "4. MouthfeelCarbonation：口当たり・炭酸感（泡・ガス強度・舌触り）  \n",
    "5. DrinkabilityAftertaste：飲みやすさ・後味（ゴクゴク・キレ・残留感）  \n",
    "6. ABV：アルコール度数への言及（例: “0.00%”）  \n",
    "7. CaloriesCarbs：カロリー・糖質関係の言及  \n",
    "8. AdditivesAllergen：添加物・香料・アレルゲンの言及  \n",
    "9. Ingredients：原材料・素材・産地・自然由来  \n",
    "10. PackagingDesign：包装・ラベル・外装デザイン  \n",
    "11. PackServingFormat：容量・パッケージ形態（缶・瓶・パック数）  \n",
    "12. ShelfLifeStorage：保存性・賞味期限・開封後品質  \n",
    "13. PriceValue：価格・コスパ・値ごろ感  \n",
    "14. Availability：流通性・店舗・EC 販売可能性  \n",
    "15. PromotionVisibility：販促・広告・POP・訴求力  \n",
    "16. BrandImageStory：ブランドイメージ・理念・物語性  \n",
    "17. SocialAcceptability：運転中・妊娠中などでも飲める許容感  \n",
    "18. SustainabilityEthics：環境配慮・サステナビリティ・倫理性',\n",
    "  negative_feedback_confidence STRING COMMENT 'negative_feedback_category に対するConfidence Score。分類信頼度（0.0～1.0）')\n",
    "USING delta\n",
    "COMMENT '\n",
    "アンケート回答データ。加えて、さまざまなデータ加工を行い、いくつかの分析用のデータを追加したもの。'\n",
    "TBLPROPERTIES (\n",
    "  'delta.enableDeletionVectors' = 'true',\n",
    "  'delta.feature.appendOnly' = 'supported',\n",
    "  'delta.feature.deletionVectors' = 'supported',\n",
    "  'delta.feature.invariants' = 'supported',\n",
    "  'delta.minReaderVersion' = '3',\n",
    "  'delta.minWriterVersion' = '7')\n",
    "\"\"\"\n",
    "\n",
    "spark.sql(f\"DROP TABLE IF EXISTS {new_table_name}\")\n",
    "spark.sql(ddl_statement)"
   ]
  },
  {
   "cell_type": "markdown",
   "metadata": {
    "application/vnd.databricks.v1+cell": {
     "cellMetadata": {},
     "inputWidgets": {},
     "nuid": "87d64727-6234-4a46-9444-085073a13e9a",
     "showTitle": false,
     "tableResultSettingsMap": {},
     "title": ""
    }
   },
   "source": [
    "## テーブルへデータとメタデータをインポート"
   ]
  },
  {
   "cell_type": "code",
   "execution_count": 0,
   "metadata": {
    "application/vnd.databricks.v1+cell": {
     "cellMetadata": {
      "byteLimit": 2048000,
      "rowLimit": 10000
     },
     "inputWidgets": {},
     "nuid": "1bf3447a-5927-438e-b1a1-913f80c99463",
     "showTitle": false,
     "tableResultSettingsMap": {},
     "title": ""
    }
   },
   "outputs": [],
   "source": [
    "import pandas as pd\n",
    "from pyspark.sql import functions as F\n",
    "\n",
    "# ---------- (2) データをインポート（型を揃えてから append） ----------\n",
    "csv_path = f\"/Volumes/{CATALOG}/{SCHEMA}/{VOLUME}/delta_export_data.csv\"\n",
    "\n",
    "# 2-1) CSVはまず文字列としてSparkで読み込み（後で明示キャスト）\n",
    "raw = (\n",
    "    spark.read\n",
    "         .option(\"header\", \"true\")\n",
    "         .option(\"multiLine\", \"true\")   # 改行を含む列を安全に読み込み\n",
    "         .option(\"quote\", '\"')\n",
    "         .option(\"escape\", '\"')\n",
    "         .csv(csv_path)                 # 既定では全列がSTRINGで入る\n",
    ")\n",
    "\n",
    "# 2-2) 文字列で読んだ配列っぽい列を array<string> へ正規化\n",
    "def parse_str_array(colname: str):\n",
    "    c = F.col(colname)\n",
    "    # nullは空配列へ\n",
    "    c_norm = F.when(c.isNull(), F.lit(\"\"))\n",
    "    # 角括弧とクォート、カンマを除去 → 空白で分割（\"['beer' 'wine']\" / \"beer, wine\" どちらも対応）\n",
    "    c_norm = F.regexp_replace(F.coalesce(c, F.lit(\"\")), r\"[\\\\[\\\\]]\", \"\")\n",
    "    c_norm = F.regexp_replace(c_norm, r\"[\\\"']\", \"\")\n",
    "    c_norm = F.regexp_replace(c_norm, r\",\", \" \")\n",
    "    c_norm = F.trim(c_norm)\n",
    "    arr = F.when(F.length(c_norm) == 0, F.array().cast(\"array<string>\")) \\\n",
    "            .otherwise(F.split(c_norm, r\"\\\\s+\"))\n",
    "    return arr\n",
    "\n",
    "# 2-3) 既存テーブルのスキーマに明示キャスト\n",
    "df = (\n",
    "    raw\n",
    "    .withColumn(\"id\", F.col(\"id\").cast(\"bigint\"))\n",
    "    .withColumn(\"submitted_at\", F.to_timestamp(\"submitted_at\", \"yyyy-MM-dd HH:mm:ss\"))\n",
    "    .withColumn(\"age_group\", F.col(\"age_group\").cast(\"string\"))\n",
    "    .withColumn(\"gender\", F.col(\"gender\").cast(\"string\"))\n",
    "    .withColumn(\"occupation\", F.col(\"occupation\").cast(\"string\"))\n",
    "    .withColumn(\"region\", F.col(\"region\").cast(\"string\"))\n",
    "    .withColumn(\"drives_weekly\",\n",
    "                F.lower(F.col(\"drives_weekly\")).isin(\"true\",\"t\",\"1\",\"yes\",\"y\"))\n",
    "    .withColumn(\"drinking_freq\", F.col(\"drinking_freq\").cast(\"string\"))\n",
    "    .withColumn(\"fav_alcohols_arr\", parse_str_array(\"fav_alcohols_arr\").cast(\"array<string>\"))\n",
    "    .withColumn(\"nonalc_freq\", F.col(\"nonalc_freq\").cast(\"string\"))\n",
    "    .withColumn(\"health_reasons_arr\", parse_str_array(\"health_reasons_arr\").cast(\"array<string>\"))\n",
    "    .withColumn(\"purchase_intent\", F.col(\"purchase_intent\").cast(\"string\"))\n",
    "    .withColumn(\"price_band\", F.col(\"price_band\").cast(\"string\"))\n",
    "    .withColumn(\"satisfaction_int\", F.col(\"satisfaction_int\").cast(\"int\"))\n",
    "    .withColumn(\"free_comment\", F.col(\"free_comment\").cast(\"string\"))\n",
    "    .withColumn(\"positive_point\", F.col(\"positive_point\").cast(\"string\"))\n",
    "    .withColumn(\"negative_feedback\", F.col(\"negative_feedback\").cast(\"string\"))\n",
    "    .withColumn(\"scene\", F.col(\"scene\").cast(\"string\"))\n",
    "    .withColumn(\"positive_point_category\", F.col(\"positive_point_category\").cast(\"string\"))\n",
    "    # DDL は STRING なので数値(1.0)が来ても STRING に統一\n",
    "    .withColumn(\"positive_point_confidence\", F.col(\"positive_point_confidence\").cast(\"string\"))\n",
    "    .withColumn(\"negative_feedback_category\", F.col(\"negative_feedback_category\").cast(\"string\"))\n",
    "    .withColumn(\"negative_feedback_confidence\", F.col(\"negative_feedback_confidence\").cast(\"string\"))\n",
    ")\n",
    "\n",
    "cols = [\n",
    "    \"id\",\"submitted_at\",\"age_group\",\"gender\",\"occupation\",\"region\",\"drives_weekly\",\n",
    "    \"drinking_freq\",\"fav_alcohols_arr\",\"nonalc_freq\",\"health_reasons_arr\",\n",
    "    \"purchase_intent\",\"price_band\",\"satisfaction_int\",\"free_comment\",\n",
    "    \"positive_point\",\"negative_feedback\",\"scene\",\"positive_point_category\",\n",
    "    \"positive_point_confidence\",\"negative_feedback_category\",\"negative_feedback_confidence\"\n",
    "]\n",
    "df.select(*cols).write.format(\"delta\").mode(\"append\").saveAsTable(new_table_name)\n",
    "\n",
    "# ---------- (3) カラムコメントを復元（COMMENT ON COLUMN を使用） ----------\n",
    "columns_df = pd.read_csv(\"../data/delta_export_column_comments.csv\")\n",
    "for row in columns_df.itertuples():\n",
    "    if pd.notna(row.comment) and row.comment:\n",
    "        col = row.column_name\n",
    "        comment_escaped = str(row.comment).replace(\"'\", \"''\")\n",
    "        spark.sql(f\"COMMENT ON COLUMN {new_table_name}.{col} IS '{comment_escaped}'\")\n",
    "\n",
    "# ---------- (4) テーブルコメントを復元（COMMENT ON TABLE を使用） ----------\n",
    "with open(\"../data/delta_export_table_comment.txt\", \"r\") as f:\n",
    "    table_comment = f.read().strip()\n",
    "if table_comment:\n",
    "    table_comment_escaped = table_comment.replace(\"'\", \"''\")\n",
    "    spark.sql(f\"COMMENT ON TABLE {new_table_name} IS '{table_comment_escaped}'\")\n",
    "\n",
    "print(f\"テーブル {new_table_name} のインポートが完了しました。\")"
   ]
  },
  {
   "cell_type": "markdown",
   "metadata": {
    "application/vnd.databricks.v1+cell": {
     "cellMetadata": {},
     "inputWidgets": {},
     "nuid": "574ad051-0fc5-4a07-8672-5d2bbc2f0dca",
     "showTitle": false,
     "tableResultSettingsMap": {},
     "title": ""
    }
   },
   "source": [
    "---"
   ]
  },
  {
   "cell_type": "markdown",
   "metadata": {
    "application/vnd.databricks.v1+cell": {
     "cellMetadata": {},
     "inputWidgets": {},
     "nuid": "5974d9ba-91b8-4b96-9fbd-e5f5e25eeb60",
     "showTitle": false,
     "tableResultSettingsMap": {},
     "title": ""
    }
   },
   "source": [
    "## テーブルの内容を確認"
   ]
  },
  {
   "cell_type": "code",
   "execution_count": 0,
   "metadata": {
    "application/vnd.databricks.v1+cell": {
     "cellMetadata": {
      "byteLimit": 2048000,
      "rowLimit": 10000
     },
     "inputWidgets": {},
     "nuid": "ec826e99-d660-4c0a-8d3b-ac098e509a6e",
     "showTitle": false,
     "tableResultSettingsMap": {},
     "title": ""
    }
   },
   "outputs": [],
   "source": [
    "table_df = spark.table(new_table_name)\n",
    "display(table_df)"
   ]
  },
  {
   "cell_type": "markdown",
   "metadata": {
    "application/vnd.databricks.v1+cell": {
     "cellMetadata": {},
     "inputWidgets": {},
     "nuid": "c1fa92b2-36fb-4af6-b337-afeb0413e55b",
     "showTitle": false,
     "tableResultSettingsMap": {},
     "title": ""
    }
   },
   "source": [
    "## データ加工のポイント：LLMを活用した非構造データの構造化"
   ]
  },
  {
   "cell_type": "code",
   "execution_count": 0,
   "metadata": {
    "application/vnd.databricks.v1+cell": {
     "cellMetadata": {
      "byteLimit": 2048000,
      "implicitDf": true,
      "rowLimit": 10000
     },
     "inputWidgets": {},
     "nuid": "a6528489-89ef-4575-818d-bd82a4ee1509",
     "showTitle": false,
     "tableResultSettingsMap": {},
     "title": ""
    }
   },
   "outputs": [],
   "source": [
    "%sql\n",
    "SELECT\n",
    "  id,\n",
    "  free_comment,\n",
    "  ai_query(\n",
    "    'databricks-gpt-oss-120b',\n",
    "    CONCAT('''以下の日本語の感想文から情報抽出してください。\n",
    "\n",
    "【出力仕様】\n",
    "- positive_point: \n",
    "  感想の中のポジティブな意見のうち、最も強調されているものを短文で一つ抽出してください（例: 香りがよい、後味がすっきり）。\n",
    "  同様の内容は一つの文章にまとめ、サマライズして、簡潔にしてください。日本語で出力してください。句読点は不要です。\n",
    "  ただし、シーンに関するポジティブな言及はscenesに含め、positive_pointには含めないでください。\n",
    "  Positiveなコメントが見つからない場合は空文字を入れてください。\n",
    "- negative_feedback: ネガティブな意見、または、要望や提案のうち、最も強調されているものを短文で一つ抽出してください。\n",
    "  同様の内容は一つの文章にまとめ、サマライズして、簡潔にしてください。\n",
    "  原文の言葉表現がカジュアルな場合は、同じ意味のビジネスライクな表現に書き直してください。\n",
    "  日本語で出力してください。句読点は不要です。\n",
    "  Negativeなコメントが見つからない場合は空文字を入れてください。\n",
    "- scene: 飲用シーン（例: 夕食、風呂上がり、運転前、スポーツ後 など）のうち、最も強調されているものを単語で一つ出力してください。\n",
    "  同様の内容は一つのワードにまとめ、サマライズして、簡潔にしてください。日本語で出力してください。句読点は不要です。\n",
    "\n",
    "【出力形式】\n",
    "構造化: positive_point, negative_feedback, scene\n",
    "\n",
    "【対象の感想文】\n",
    "''', COALESCE(free_comment, '')),\n",
    "    responseFormat => '{\n",
    "        \"type\": \"json_schema\",\n",
    "        \"json_schema\": {\n",
    "          \"name\": \"extracted_data\",\n",
    "          \"schema\": {\n",
    "            \"type\": \"object\",\n",
    "            \"properties\": {\n",
    "              \"positive_point\": {\"type\": \"string\"},\n",
    "              \"negative_feedback\": {\"type\": \"string\"},\n",
    "              \"scene\": {\"type\": \"string\"}\n",
    "            }\n",
    "        },\n",
    "        \"strict\": true\n",
    "      }\n",
    "    }'\n",
    "  ) AS extracted_data\n",
    "FROM handson.survey_analysis.gold_survey_responses_final\n",
    "LIMIT 5"
   ]
  },
  {
   "cell_type": "markdown",
   "metadata": {
    "application/vnd.databricks.v1+cell": {
     "cellMetadata": {},
     "inputWidgets": {},
     "nuid": "fd577f1d-8f1c-45ff-8258-f89a3b62a497",
     "showTitle": false,
     "tableResultSettingsMap": {},
     "title": ""
    }
   },
   "source": [
    "---"
   ]
  }
 ],
 "metadata": {
  "application/vnd.databricks.v1+notebook": {
   "computePreferences": {
    "hardware": {
     "accelerator": null,
     "gpuPoolId": null,
     "memory": null
    }
   },
   "dashboards": [],
   "environmentMetadata": {
    "base_environment": "",
    "environment_version": "4"
   },
   "inputWidgetPreferences": null,
   "language": "python",
   "notebookMetadata": {
    "mostRecentlyExecutedCommandWithImplicitDF": {
     "commandId": 6943948784614937,
     "dataframes": [
      "_sqldf"
     ]
    },
    "pythonIndentUnit": 4
   },
   "notebookName": "01.データ加工_時短版",
   "widgets": {}
  },
  "language_info": {
   "name": "python"
  }
 },
 "nbformat": 4,
 "nbformat_minor": 0
}
