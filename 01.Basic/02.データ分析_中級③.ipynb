{
 "cells": [
  {
   "cell_type": "markdown",
   "metadata": {
    "application/vnd.databricks.v1+cell": {
     "cellMetadata": {},
     "inputWidgets": {},
     "nuid": "a28c2f0e-0b8c-48e7-9595-1a15e6bbeecc",
     "showTitle": false,
     "tableResultSettingsMap": {},
     "title": ""
    }
   },
   "source": [
    "# 中級：将来予測・施策提案（AI を用いた示唆生成）\n",
    "\n",
    "この章では、過去データを基に LLM に施策提案や未来仮説を生成させて、  \n",
    "データの傾向分析に「戦略思考」を加える練習をします。\n",
    "\n",
    "ステップ概要：\n",
    "1. 分析対象カテゴリや属性ターゲットを決める  \n",
    "2. それらについて、集計傾向を可視化／確認  \n",
    "3. プロンプト作成：過去傾向 + 質問形式で LLM に投げる  \n",
    "4. ai_query による施策生成  \n",
    "5. 生成案を結果テーブルに紐づけてレビュー可能な形に  "
   ]
  },
  {
   "cell_type": "code",
   "execution_count": 0,
   "metadata": {
    "application/vnd.databricks.v1+cell": {
     "cellMetadata": {
      "byteLimit": 2048000,
      "rowLimit": 10000
     },
     "inputWidgets": {},
     "nuid": "eb62d31b-6f11-46bd-9612-0d124636f08f",
     "showTitle": false,
     "tableResultSettingsMap": {},
     "title": ""
    }
   },
   "outputs": [],
   "source": [
    "%pip install markdown\n",
    "dbutils.library.restartPython()"
   ]
  },
  {
   "cell_type": "code",
   "execution_count": 0,
   "metadata": {
    "application/vnd.databricks.v1+cell": {
     "cellMetadata": {
      "byteLimit": 2048000,
      "rowLimit": 10000
     },
     "inputWidgets": {},
     "nuid": "fc900587-87fd-42cc-a98b-73070aa9ea9c",
     "showTitle": false,
     "tableResultSettingsMap": {},
     "title": ""
    }
   },
   "outputs": [],
   "source": [
    "CATALOG = \"hiroshi\"\n",
    "SCHEMA  = \"survey_analysis_simple\"\n",
    "\n",
    "# UCオブジェクト作成\n",
    "spark.sql(f\"USE CATALOG {CATALOG}\")\n",
    "spark.sql(f\"USE {SCHEMA}\")\n",
    "\n",
    "GOLD_TABLE_NAME = \"gold_survey_responses_final\""
   ]
  },
  {
   "cell_type": "markdown",
   "metadata": {
    "application/vnd.databricks.v1+cell": {
     "cellMetadata": {},
     "inputWidgets": {},
     "nuid": "136f83a9-4fe8-46e9-9fb5-efe9608c7889",
     "showTitle": false,
     "tableResultSettingsMap": {},
     "title": ""
    }
   },
   "source": [
    "## 必要モジュール読み込みとデータ取得\n",
    "\n",
    "このセルでは、クラスタリングに必要な SparkML モジュールをインポートし、  \n",
    "GOLD テーブルを取得してクラスタリング対象データを準備します。"
   ]
  },
  {
   "cell_type": "code",
   "execution_count": 0,
   "metadata": {
    "application/vnd.databricks.v1+cell": {
     "cellMetadata": {
      "byteLimit": 2048000,
      "rowLimit": 10000
     },
     "inputWidgets": {},
     "nuid": "ebb955dc-e24e-4dc7-88d9-c91d24bf5741",
     "showTitle": false,
     "tableResultSettingsMap": {},
     "title": ""
    }
   },
   "outputs": [],
   "source": [
    "gold = spark.table(GOLD_TABLE_NAME)  # ← 実際の GOLD テーブル名\n",
    "display(gold.limit(10))\n",
    "gold.printSchema()"
   ]
  },
  {
   "cell_type": "markdown",
   "metadata": {
    "application/vnd.databricks.v1+cell": {
     "cellMetadata": {},
     "inputWidgets": {},
     "nuid": "cca0a7a9-dc3e-42c4-b332-d205995a5e52",
     "showTitle": false,
     "tableResultSettingsMap": {},
     "title": ""
    }
   },
   "source": [
    "## 対象カテゴリ／属性ターゲットの傾向確認\n",
    "\n",
    "このセルでは、まずどのカテゴリがこれまで多く言及されたかを確認して、どのカテゴリを将来提案対象にするかを決めやすくします。\n",
    "\n",
    "例：ネガティブカテゴリー別出現件数の上位 5 カテゴリを見て、それを将来改善候補として洗い出します。"
   ]
  },
  {
   "cell_type": "code",
   "execution_count": 0,
   "metadata": {
    "application/vnd.databricks.v1+cell": {
     "cellMetadata": {
      "byteLimit": 2048000,
      "rowLimit": 10000
     },
     "inputWidgets": {},
     "nuid": "6760c660-36ce-45f5-b575-b51d734df771",
     "showTitle": false,
     "tableResultSettingsMap": {},
     "title": ""
    }
   },
   "outputs": [],
   "source": [
    "from pyspark.sql import functions as F\n",
    "from pyspark.sql.window import Window\n",
    "\n",
    "neg_dist = (\n",
    "    gold\n",
    "    .groupBy(\"negative_feedback_category\")\n",
    "    .agg(F.count(\"*\").alias(\"cnt\"))\n",
    "    .orderBy(F.desc(\"cnt\"))\n",
    ")\n",
    "\n",
    "display(neg_dist.limit(5))"
   ]
  },
  {
   "cell_type": "markdown",
   "metadata": {
    "application/vnd.databricks.v1+cell": {
     "cellMetadata": {},
     "inputWidgets": {},
     "nuid": "655b91ab-faf7-4fd1-af53-64f47316fa36",
     "showTitle": false,
     "tableResultSettingsMap": {},
     "title": ""
    }
   },
   "source": [
    "## 将来テーマ候補カテゴリを選出し、プロンプト対象化\n",
    "\n",
    "このセルでは、「将来改善すべきカテゴリ」候補を選び（たとえば出現頻度上位 3〜5 業種）、  \n",
    "それを LLM に渡すためのプロンプト文テンプレートを準備します。"
   ]
  },
  {
   "cell_type": "code",
   "execution_count": 0,
   "metadata": {
    "application/vnd.databricks.v1+cell": {
     "cellMetadata": {
      "byteLimit": 2048000,
      "rowLimit": 10000
     },
     "inputWidgets": {},
     "nuid": "8bc6aaba-20b4-46d2-af1a-f1dbbc328cae",
     "showTitle": false,
     "tableResultSettingsMap": {
      "0": {
       "dataGridStateBlob": "{\"version\":1,\"tableState\":{\"columnPinning\":{\"left\":[\"#row_number#\"],\"right\":[]},\"columnSizing\":{},\"columnVisibility\":{}},\"settings\":{\"columns\":{}},\"syncTimestamp\":1760165709776}",
       "filterBlob": null,
       "queryPlanFiltersBlob": null,
       "tableResultIndex": 0
      }
     },
     "title": ""
    }
   },
   "outputs": [],
   "source": [
    "from pyspark.sql.functions import lit, concat, col, format_string\n",
    "\n",
    "# 上位のカテゴリ名リストを取得（collect 等で Python 側に取り出さない、Spark 上で処理）\n",
    "top_neg_df = neg_dist.limit(3).select(\"negative_feedback_category\")\n",
    "\n",
    "# テンプレート（Spark の format_string を使って置換できる形式にする）\n",
    "prompt_tpl_spark = (\n",
    "    \"過去アンケート調査から、このカテゴリ「%s」に関する不満・改善要望が多く見られました。\"\n",
    "    \"この傾向をもとに、今後1〜2年で最も有効と思われる **改善施策案を3つ**、およびその理由を説明して、マークダウン形式で出力してください。\"\n",
    "    \"\\n\\n対象カテゴリ: \\\"%s\\\"\"\n",
    ")\n",
    "\n",
    "# prompt 列を作成（2回 %s を使ってカテゴリ名を埋め込む）\n",
    "df_prompt = top_neg_df.withColumn(\n",
    "    \"prompt\",\n",
    "    format_string(prompt_tpl_spark, col(\"negative_feedback_category\"), col(\"negative_feedback_category\"))\n",
    ").withColumnRenamed(\"negative_feedback_category\", \"neg_cat\")\n",
    "\n",
    "display(df_prompt)"
   ]
  },
  {
   "cell_type": "markdown",
   "metadata": {
    "application/vnd.databricks.v1+cell": {
     "cellMetadata": {},
     "inputWidgets": {},
     "nuid": "fb8c4783-8626-4120-9137-693369ed782e",
     "showTitle": false,
     "tableResultSettingsMap": {},
     "title": ""
    }
   },
   "source": [
    "## ai_query により施策提案・予測案を取得\n",
    "\n",
    "このセルでは、先に作った `prompt` 列を使って `ai_query` を呼び出し、  \n",
    "施策案（3案）＋理由を出す説明文を取得します（構造化出力を期待する）。"
   ]
  },
  {
   "cell_type": "code",
   "execution_count": 0,
   "metadata": {
    "application/vnd.databricks.v1+cell": {
     "cellMetadata": {
      "byteLimit": 2048000,
      "rowLimit": 10000
     },
     "inputWidgets": {},
     "nuid": "4d82cb1c-9f7c-407a-bd4d-08f63babb9ac",
     "showTitle": false,
     "tableResultSettingsMap": {},
     "title": ""
    }
   },
   "outputs": [],
   "source": [
    "# セル 3：LLM から施策案を文字列で取得（text モード）\n",
    "df_out = df_prompt.selectExpr(\n",
    "    \"neg_cat\",\n",
    "    \"ai_query('databricks-gpt-oss-120b', prompt, responseFormat => '{\\\"type\\\":\\\"text\\\"}') as strategy_plan\"\n",
    ")\n",
    "\n",
    "display(df_out)"
   ]
  },
  {
   "cell_type": "markdown",
   "metadata": {
    "application/vnd.databricks.v1+cell": {
     "cellMetadata": {},
     "inputWidgets": {},
     "nuid": "64f73233-3b97-411c-af3d-c3991c178436",
     "showTitle": false,
     "tableResultSettingsMap": {},
     "title": ""
    }
   },
   "source": [
    "### カテゴリ別施策案をダッシュボード風に表示\n",
    "\n",
    "このセルでは、セル 3 で生成されたカテゴリ別施策案（`strategy_plan`）を使って、  \n",
    "受講者が施策案を視覚的に理解しやすい形で表示します。\n",
    "\n",
    "具体的には、以下のような工夫を入れます：\n",
    "\n",
    "- 各カテゴリ × 施策案を整形して見やすく表示  \n",
    "- 必要なら HTML テーブル風、または Spark の `display()` を使ってリンク付き表示  \n",
    "- 施策案が複数行にまたがるなら `split()` や改行で分割して列展開  \n",
    "\n",
    "この表示を使えば、「どのカテゴリに、どのような施策案が出たか」が一目で分かるようになります。"
   ]
  },
  {
   "cell_type": "code",
   "execution_count": 0,
   "metadata": {
    "application/vnd.databricks.v1+cell": {
     "cellMetadata": {
      "byteLimit": 2048000,
      "rowLimit": 10000
     },
     "inputWidgets": {},
     "nuid": "18aed780-d143-4ad1-bf57-2a6844b6baa9",
     "showTitle": false,
     "tableResultSettingsMap": {},
     "title": ""
    }
   },
   "outputs": [],
   "source": [
    "from markdown import markdown  # `%pip install markdown` 必要かも\n",
    "from IPython.display import display, HTML\n",
    "\n",
    "def show_markdown(md: str):\n",
    "    html = markdown(md)\n",
    "    display(HTML(html))\n",
    "\n",
    "# 使う例\n",
    "for row in df_out.collect():\n",
    "    cat = row[\"neg_cat\"]\n",
    "    plan_md = row[\"strategy_plan\"]\n",
    "    md = f\"# カテゴリ：{cat}\\n\\n\" + plan_md\n",
    "    show_markdown(md)\n",
    "    show_markdown(\"---\")"
   ]
  },
  {
   "cell_type": "markdown",
   "metadata": {
    "application/vnd.databricks.v1+cell": {
     "cellMetadata": {},
     "inputWidgets": {},
     "nuid": "2b1c06ee-49b9-434d-ab9b-558b2108df4a",
     "showTitle": false,
     "tableResultSettingsMap": {},
     "title": ""
    }
   },
   "source": [
    "---"
   ]
  },
  {
   "cell_type": "markdown",
   "metadata": {
    "application/vnd.databricks.v1+cell": {
     "cellMetadata": {},
     "inputWidgets": {},
     "nuid": "7a11078c-3ef1-4505-858d-34a2e6c84af7",
     "showTitle": false,
     "tableResultSettingsMap": {},
     "title": ""
    }
   },
   "source": [
    "## 🏁 総括（まとめ）\n",
    "\n",
    "### 1. 実施プロセスの振り返り  \n",
    "本演習では、セル 3 において各ネガティブカテゴリごとに「今後1〜2年で打つべき改善施策案を3案ずつ」生成し、実施内容と期待効果・根拠を併記いたしました。  \n",
    "さらにセル 4 では、それらの施策案をカテゴリ別に見やすく整理・表示するよう設計し、受講者が直感的に比較・参照できる形式を追求いたしました。\n",
    "\n",
    "### 2. 各カテゴリに対する提案の特徴（例：MouthfeelCarbon-ation）  \n",
    "- **炭酸圧力と溶解度の最適化**：ラインのリアルタイムモニタリングおよび高精度制御技術導入により、炭酸感の一貫性を強化  \n",
    "- **微細気泡技術の導入**：気泡径を縮小・制御することで、舌触りの滑らかさ・炭酸感持続性を向上  \n",
    "- **感覚データ駆動のレシピ最適化**：消費者パネルと AI を組み合わせ、味覚パラメータの最適調整を行う手法  \n",
    "\n",
    "各案には「具体性」と「実現可能性」が示され、不満要因への対応力が明確に説明されています。\n",
    "\n",
    "### 3. 可視化表示による利点と工夫  \n",
    "- テーブル形式または行展開形式で一覧表示することで、カテゴリ × 施策案の構造を視覚化  \n",
    "- HTML 表示や行番号付き形式を用いることで、報告資料や受講資料としての可読性を向上  \n",
    "- 表示形式により、施策の偏り・重複・カテゴリ間比較といった構造的な課題を発見しやすくなります\n",
    "\n",
    "### 4. 今後の発展方向  \n",
    "- 各案に対して **スコアリング（効果予測値／優先度指標）** を付与し、意思決定精度を高める  \n",
    "- 属性別（年代・購入頻度等）に施策案を分岐させ、パーソナライズされた提案を可能とする  \n",
    "- 施策案を BI ダッシュボードとして展開し、リアルタイム参照・更新体制を構築  \n",
    "- 生成案を題材とした受講者演習（改善案改良・代替案提示）を設計し、思考深化に用いる\n",
    "\n",
    "### 🎯 最終メッセージ  \n",
    "本ワークフロー構成により、単なる分析や施策生成で終わることなく、**見やすく整理された可視化付き施策案出力**までを含む一連の流れを実現しました。  "
   ]
  },
  {
   "cell_type": "code",
   "execution_count": 0,
   "metadata": {
    "application/vnd.databricks.v1+cell": {
     "cellMetadata": {},
     "inputWidgets": {},
     "nuid": "d6948ca1-5fe1-4e3e-b93d-86c5b60c251c",
     "showTitle": false,
     "tableResultSettingsMap": {},
     "title": ""
    }
   },
   "outputs": [],
   "source": []
  }
 ],
 "metadata": {
  "application/vnd.databricks.v1+notebook": {
   "computePreferences": null,
   "dashboards": [],
   "environmentMetadata": {
    "base_environment": "",
    "environment_version": "4"
   },
   "inputWidgetPreferences": null,
   "language": "python",
   "notebookMetadata": {
    "pythonIndentUnit": 4
   },
   "notebookName": "02.データ分析_中級③",
   "widgets": {}
  },
  "language_info": {
   "name": "python"
  }
 },
 "nbformat": 4,
 "nbformat_minor": 0
}
