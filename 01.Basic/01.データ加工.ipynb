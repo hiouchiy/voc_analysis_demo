{
 "cells": [
  {
   "cell_type": "markdown",
   "metadata": {
    "application/vnd.databricks.v1+cell": {
     "cellMetadata": {},
     "inputWidgets": {},
     "nuid": "fa065a8a-9481-4354-82ed-0887131ebe16",
     "showTitle": false,
     "tableResultSettingsMap": {},
     "title": ""
    }
   },
   "source": [
    "# タイトル: アンケート調査データのETL・正規化パイプライン\n",
    "説明: Webから取得したアンケートJSONデータをDatabricks上でBronze/Silverテーブルに整備・正規化し、分析やAI処理に活用できる形に変換するノートブックです。"
   ]
  },
  {
   "cell_type": "markdown",
   "metadata": {
    "application/vnd.databricks.v1+cell": {
     "cellMetadata": {},
     "inputWidgets": {},
     "nuid": "603f4216-c9d0-47d7-b3f7-d38ad9c25996",
     "showTitle": false,
     "tableResultSettingsMap": {},
     "title": ""
    }
   },
   "source": [
    "### 1. パラメータ設定\n",
    "データ格納先のカタログ・スキーマ・ボリューム名や、ダウンロード元URL、保存先パスなどを定義しています。"
   ]
  },
  {
   "cell_type": "code",
   "execution_count": 0,
   "metadata": {
    "application/vnd.databricks.v1+cell": {
     "cellMetadata": {
      "byteLimit": 2048000,
      "rowLimit": 10000
     },
     "inputWidgets": {},
     "nuid": "6f145757-ccc1-4ac0-8fdd-b941d60ae0c9",
     "showTitle": false,
     "tableResultSettingsMap": {},
     "title": ""
    }
   },
   "outputs": [],
   "source": [
    "# ===== パラメータ（必要に応じて変更） =====\n",
    "CATALOG = \"hiroshi\"\n",
    "SCHEMA  = \"survey_analysis_simple\"\n",
    "VOLUME  = \"raw_data\"\n",
    "\n",
    "# 例：公開URL（JSON Lines）をここに設定\n",
    "SOURCE_URL = \"https://raw.githubusercontent.com/hiouchiy/voc_analysis_demo/refs/heads/main/data/survey_responses.jsonl\"\n",
    "\n",
    "# UC Volume 上の保存先（ファイル名は任意）\n",
    "DST_DIR  = f\"/Volumes/{CATALOG}/{SCHEMA}/{VOLUME}/landing\"\n",
    "DST_FILE = f\"{DST_DIR}/survey_responses.jsonl\"\n",
    "\n",
    "# LLMエンドポイント（ai_extract/ai_queryで使用）\n",
    "LLM_ENDPOINT = \"databricks-claude-3-7-sonnet\"   # 例。自分のFMエンドポイント名に置換\n",
    "\n",
    "# テーブル名\n",
    "BRONZE_TBL = \"bronze_survey_responses\"\n",
    "SILVER_TBL = \"silver_survey_responses_base\""
   ]
  },
  {
   "cell_type": "markdown",
   "metadata": {
    "application/vnd.databricks.v1+cell": {
     "cellMetadata": {},
     "inputWidgets": {},
     "nuid": "73b3f67f-393b-465d-964f-dc5984c0b6c1",
     "showTitle": false,
     "tableResultSettingsMap": {},
     "title": ""
    }
   },
   "source": [
    "### 2. UCオブジェクトの作成・選択\n",
    "指定したカタログ・スキーマ・ボリュームが存在しなければ作成し、以降の操作対象として選択します。"
   ]
  },
  {
   "cell_type": "code",
   "execution_count": 0,
   "metadata": {
    "application/vnd.databricks.v1+cell": {
     "cellMetadata": {
      "byteLimit": 2048000,
      "rowLimit": 10000
     },
     "inputWidgets": {},
     "nuid": "1b4328fa-0d45-4dca-bc00-632fbead189b",
     "showTitle": false,
     "tableResultSettingsMap": {},
     "title": ""
    }
   },
   "outputs": [],
   "source": [
    "# UCオブジェクト作成\n",
    "spark.sql(f\"CREATE CATALOG IF NOT EXISTS {CATALOG}\")\n",
    "spark.sql(f\"USE CATALOG {CATALOG}\")\n",
    "spark.sql(f\"CREATE SCHEMA IF NOT EXISTS {SCHEMA}\")\n",
    "spark.sql(f\"USE {SCHEMA}\")\n",
    "spark.sql(f\"CREATE VOLUME IF NOT EXISTS {VOLUME} COMMENT 'Landing for survey raw JSON'\")"
   ]
  },
  {
   "cell_type": "markdown",
   "metadata": {
    "application/vnd.databricks.v1+cell": {
     "cellMetadata": {},
     "inputWidgets": {},
     "nuid": "50c1d76d-a452-4543-bba7-669672c8960c",
     "showTitle": false,
     "tableResultSettingsMap": {},
     "title": ""
    }
   },
   "source": [
    "### 3. データのダウンロードと保存\n",
    "Web上のアンケートデータ（JSON Lines）をダウンロードし、一時ファイル経由でUC Volumeに保存します。\n",
    "※アウトバウンド通信が制限されている場合は、手動アップロードが必要です。"
   ]
  },
  {
   "cell_type": "code",
   "execution_count": 0,
   "metadata": {
    "application/vnd.databricks.v1+cell": {
     "cellMetadata": {
      "byteLimit": 2048000,
      "rowLimit": 10000
     },
     "inputWidgets": {},
     "nuid": "5691c997-6dd8-4141-b61a-590a68dec6c4",
     "showTitle": false,
     "tableResultSettingsMap": {},
     "title": ""
    }
   },
   "outputs": [],
   "source": [
    "# 保存先ディレクトリ準備（Volumesパスはdbutils.fsで作成）\n",
    "dbutils.fs.mkdirs(DST_DIR)\n",
    "\n",
    "# --- Webからダウンロード → UC Volumeへ書き込み ---\n",
    "# 注意：Workspaceのアウトバウンド通信が制限されている場合は失敗します。その場合はローカルからVolumeへ直接アップロードしてください（サイドバーの\"Volumes\" > \"Upload\"）。\n",
    "import requests\n",
    "\n",
    "resp = requests.get(SOURCE_URL, timeout=60)\n",
    "resp.raise_for_status()\n",
    "content = resp.content  # bytes\n",
    "\n",
    "# 一時ファイルに保存してから、dbutils.fs.putでVolumeへ書き込み\n",
    "import tempfile, os\n",
    "tmp = tempfile.mktemp(suffix=\".jsonl\")\n",
    "with open(tmp, \"wb\") as f:\n",
    "    f.write(content)\n",
    "\n",
    "with open(tmp, \"r\", encoding=\"utf-8\") as f:\n",
    "    dbutils.fs.put(DST_FILE, f.read(), overwrite=True)\n",
    "\n",
    "os.remove(tmp)\n",
    "print(f\"Downloaded to: {DST_FILE}\")"
   ]
  },
  {
   "cell_type": "markdown",
   "metadata": {
    "application/vnd.databricks.v1+cell": {
     "cellMetadata": {},
     "inputWidgets": {},
     "nuid": "66f70e51-5db5-4f3b-aa68-124f993f3a2c",
     "showTitle": false,
     "tableResultSettingsMap": {},
     "title": ""
    }
   },
   "source": [
    "### 4. データの読み込みと型整形\n",
    "保存したJSON LinesファイルをSpark DataFrameで読み込み、日付や真偽値など必要な型変換を行います。"
   ]
  },
  {
   "cell_type": "markdown",
   "metadata": {
    "application/vnd.databricks.v1+cell": {
     "cellMetadata": {},
     "inputWidgets": {},
     "nuid": "d604a903-8b92-4bff-bb09-29fef6360d31",
     "showTitle": false,
     "tableResultSettingsMap": {},
     "title": ""
    }
   },
   "source": [
    "#### 1) Bronze：UC Volume → Delta（JSON Lines想定）\n",
    "アンケートの生データ（JSON Lines形式）をDatabricksのBronzeテーブルとして保存する処理です。\n",
    "\n",
    "主な流れは以下の通りです。\n",
    "\n",
    "1. カタログ・スキーマの選択\n",
    "Databricks Unity Catalogの対象カタログ・スキーマを選択します。\n",
    "\n",
    "1. JSON Linesデータの読み込み\n",
    "Volumesに保存されたJSON Linesファイル（1行1レコード）をSpark DataFrameとして読み込みます。\n",
    "\n",
    "1. 型整形\n",
    "提出日時（submitted_at）をタイムスタンプ型に変換し、drives_weekly列をboolean型に変換します。\n",
    "\n",
    "1. Deltaテーブル（Bronzeテーブル）への保存\n",
    "整形したDataFrameをDelta形式でテーブル（bronze_survey_responses）として上書き保存します。\n",
    "Bronzeテーブルは生データの原形保持が原則です。\n",
    "\n",
    "1. テーブルの最適化\n",
    "OPTIMIZEコマンドでDeltaテーブルのパフォーマンスを向上させます。"
   ]
  },
  {
   "cell_type": "code",
   "execution_count": 0,
   "metadata": {
    "application/vnd.databricks.v1+cell": {
     "cellMetadata": {
      "byteLimit": 2048000,
      "rowLimit": 10000
     },
     "inputWidgets": {},
     "nuid": "641602d2-7965-44ff-a226-dbbc2d5a9d21",
     "showTitle": false,
     "tableResultSettingsMap": {},
     "title": ""
    }
   },
   "outputs": [],
   "source": [
    "# ---- JSON Lines 読み込んで、表示させてみましょう ----\n",
    "df_bronze = (\n",
    "    spark.read\n",
    "         .option(\"multiLine\", \"false\")  # JSON Lines想定（1行=1レコード）\n",
    "         .json(DST_FILE)\n",
    ")\n",
    "\n",
    "# ※配列JSONを読みたい場合は上記を以下に変更\n",
    "# df_bronze = (\n",
    "#     spark.read\n",
    "#          .option(\"multiLine\", \"true\")   # 配列JSON [{},{}...]\n",
    "#          .json(DST_FILE)\n",
    "# )\n",
    "\n",
    "display(df_bronze)"
   ]
  },
  {
   "cell_type": "code",
   "execution_count": 0,
   "metadata": {
    "application/vnd.databricks.v1+cell": {
     "cellMetadata": {},
     "inputWidgets": {},
     "nuid": "0d7a0e88-40d8-4a1a-83a0-84c3fed6f6ac",
     "showTitle": true,
     "tableResultSettingsMap": {},
     "title": "課題①"
    }
   },
   "outputs": [],
   "source": [
    "# df_bronzeの中のsubmitted_at, drives_weeklyをタイムスタンプ型、Boolean型にそれぞれ型を定義し、Delta Tableを新規作成するコードを書いてください。なお、同名のTableが存在する場合は全体を上書きしてOKです。"
   ]
  },
  {
   "cell_type": "code",
   "execution_count": 0,
   "metadata": {
    "application/vnd.databricks.v1+cell": {
     "cellMetadata": {
      "byteLimit": 2048000,
      "rowLimit": 10000
     },
     "collapsed": true,
     "inputWidgets": {},
     "nuid": "44d61eba-c9e6-44b0-8ded-c2181f61652d",
     "showTitle": true,
     "tableResultSettingsMap": {},
     "title": "課題①の正解例"
    }
   },
   "outputs": [],
   "source": [
    "# 正解コードはこちら\n",
    "# いきなり見るのはやめましょう\n",
    "\n",
    "from pyspark.sql import functions as F\n",
    "\n",
    "# 必要最低限の型整形（submitted_at, drives_weekly）\n",
    "df_bronze = (\n",
    "    df_bronze\n",
    "      .withColumn(\"submitted_at\", F.to_timestamp(\"submitted_at\", \"yyyy-MM-dd HH:mm:ss\"))\n",
    "      .withColumn(\"drives_weekly\", F.col(\"drives_weekly\").cast(\"boolean\"))\n",
    ")\n",
    "\n",
    "# Deltaに上書き作成（Bronzeは原形保持が原則。既存があればappendにしても良い）\n",
    "(df_bronze\n",
    " .write\n",
    " .format(\"delta\")\n",
    " .mode(\"overwrite\")\n",
    " .option(\"overwriteSchema\", \"true\")\n",
    " .saveAsTable(BRONZE_TBL)\n",
    ")\n",
    "\n",
    "# spark.sql(f\"OPTIMIZE {BRONZE_TBL}\")\n",
    "print(f\"Bronze table: {CATALOG}.{SCHEMA}.{BRONZE_TBL}\")"
   ]
  },
  {
   "cell_type": "markdown",
   "metadata": {
    "application/vnd.databricks.v1+cell": {
     "cellMetadata": {},
     "inputWidgets": {},
     "nuid": "db04c37c-e443-4358-9d98-676986cd5bff",
     "showTitle": false,
     "tableResultSettingsMap": {},
     "title": ""
    }
   },
   "source": [
    "#### 2) Silver\n",
    "\n",
    "Bronzeテーブルのアンケートデータを「型整備・正規化」してSilverテーブルに変換・保存する処理です。\n",
    "\n",
    "主な処理内容は以下の通りです。\n",
    "\n",
    "1. Bronzeテーブルの読み込み\n",
    "Deltaテーブル（Bronze）からデータを取得します。\n",
    "\n",
    "1. 列ごとの型変換・値の正規化\n",
    "    - id, submitted_at, drives_weeklyなどを適切な型（bigint, timestamp, boolean）に変換\n",
    "    - age_group, gender, region, occupationなどのカテゴリ値を許容リストで正規化（不正値はデフォルト値に）\n",
    "    - satisfaction（満足度）を1～5の整数型に変換\n",
    "    - fav_alcohols, health_reasonsを配列型に整形\n",
    "    - submitted_date, submitted_hourを抽出\n",
    "\n",
    "1. id重複の解消\n",
    "同じidが複数ある場合は、最新のsubmitted_atのみを残します。\n",
    "\n",
    "1. Silverテーブルへの保存\n",
    "正規化したデータをDelta形式でSilverテーブルに上書き保存します。\n",
    "\n",
    "1. テーブルプロパティ設定・最適化\n",
    "テーブルの用途説明（purpose, description）を付与し、OPTIMIZEでパフォーマンスを向上させます。"
   ]
  },
  {
   "cell_type": "code",
   "execution_count": 0,
   "metadata": {
    "application/vnd.databricks.v1+cell": {
     "cellMetadata": {
      "byteLimit": 2048000,
      "rowLimit": 10000
     },
     "inputWidgets": {},
     "nuid": "fedf6667-3a59-485c-90d2-06c89642863a",
     "showTitle": false,
     "tableResultSettingsMap": {},
     "title": ""
    }
   },
   "outputs": [],
   "source": [
    "# ===== Silver: 型整備・正規化（Bronzeに存在する列のみ） =====\n",
    "from pyspark.sql import functions as F\n",
    "\n",
    "df = spark.table(BRONZE_TBL)\n",
    "\n",
    "# ユーティリティ：カンマ区切り → 正規化配列\n",
    "def to_clean_array(col):\n",
    "    return F.expr(\n",
    "        \"filter(array_distinct(transform(split(coalesce({c}, ''), ','), x -> trim(lower(x)))), x -> x <> '')\"\n",
    "        .format(c=col)\n",
    "    )\n",
    "\n",
    "# 想定コード値（存在する列のみ）\n",
    "allowed_age      = [\"u19\",\"20s\",\"30s\",\"40s\",\"50s\",\"60plus\"]\n",
    "allowed_gender   = [\"male\",\"female\",\"other\",\"no_answer\"]\n",
    "allowed_region   = [\"hokkaido_to_hoku\",\"kanto\",\"chubu\",\"kinki\",\"chugoku_shikoku\",\"kyushu_okinawa\",\"overseas\",\"no_answer\"]\n",
    "allowed_occ      = [\"company_employee\",\"self_employed\",\"student\",\"homemaker\",\"other\",\"no_answer\"]\n",
    "allowed_drink    = [\"daily\",\"weekly\",\"monthly\",\"never\"]\n",
    "allowed_nonalc   = [\"first_time\",\"sometimes\",\"weekly\"]\n",
    "allowed_price    = [\"under199\",\"200_249\",\"250_299\",\"300_349\",\"350plus\"]\n",
    "allowed_intent   = [\"def_buy\",\"maybe\",\"unsure\",\"no\"]\n",
    "\n",
    "def norm_enum(col, allowed, default=\"unknown\"):\n",
    "    return (\n",
    "        F.when(F.col(col).isNull() | (F.trim(F.col(col)) == \"\"), F.lit(default))\n",
    "         .otherwise(\n",
    "             F.when(F.lower(F.col(col)).isin([a.lower() for a in allowed]),\n",
    "                    F.lower(F.col(col))).otherwise(F.lit(default))\n",
    "         )\n",
    "    )\n",
    "\n",
    "# 型整備・正規化（Bronze列のみ）\n",
    "df_silver = (\n",
    "    df\n",
    "    .withColumn(\"id\",               F.col(\"id\").cast(\"bigint\"))\n",
    "    .withColumn(\"submitted_at\",     F.col(\"submitted_at\").cast(\"timestamp\"))\n",
    "    .withColumn(\"drives_weekly\",    F.col(\"drives_weekly\").cast(\"boolean\"))\n",
    "    .withColumn(\"age_group\",        norm_enum(\"age_group\", allowed_age))\n",
    "    .withColumn(\"gender\",           norm_enum(\"gender\", allowed_gender,  \"no_answer\"))\n",
    "    .withColumn(\"region\",           norm_enum(\"region\", allowed_region,  \"no_answer\"))\n",
    "    .withColumn(\"occupation\",       norm_enum(\"occupation\", allowed_occ, \"other\"))\n",
    "    .withColumn(\"drinking_freq\",    norm_enum(\"drinking_freq\", allowed_drink))\n",
    "    .withColumn(\"nonalc_freq\",      norm_enum(\"nonalc_freq\", allowed_nonalc))\n",
    "    .withColumn(\"price_band\",       norm_enum(\"price_band\", allowed_price, \"unknown\"))\n",
    "    .withColumn(\"purchase_intent\",  norm_enum(\"purchase_intent\", allowed_intent))\n",
    "    .withColumn(\"satisfaction_int\",\n",
    "        F.when(F.col(\"satisfaction\").rlike(\"^[1-5]$\"),\n",
    "               F.col(\"satisfaction\").cast(\"int\")).otherwise(F.lit(None).cast(\"int\"))\n",
    "    )\n",
    "    .withColumn(\"fav_alcohols_arr\", to_clean_array(\"fav_alcohols\"))\n",
    "    .withColumn(\"health_reasons_arr\", to_clean_array(\"health_reasons\"))\n",
    "    .drop(\"fav_alcohols\", \"health_reasons\", \"satisfaction\")\n",
    ")\n",
    "\n",
    "# 万一の id 重複は最新 submitted_at を採用\n",
    "from pyspark.sql.window import Window\n",
    "w = Window.partitionBy(\"id\").orderBy(F.col(\"submitted_at\").desc_nulls_last())\n",
    "df_silver = (\n",
    "    df_silver\n",
    "    .withColumn(\"_rn\", F.row_number().over(w))\n",
    "    .filter(F.col(\"_rn\") == 1)\n",
    "    .drop(\"_rn\")\n",
    ")\n",
    "\n",
    "# Delta に上書き\n",
    "(df_silver.write\n",
    "    .format(\"delta\")\n",
    "    .mode(\"overwrite\")\n",
    "    .option(\"overwriteSchema\", \"true\")\n",
    "    .saveAsTable(SILVER_TBL)\n",
    ")\n",
    "\n",
    "spark.sql(f\"ALTER TABLE {SILVER_TBL} SET TBLPROPERTIES (purpose='silver_base', description='Type-normalized survey data (no ai_extract)')\")\n",
    "# spark.sql(f\"OPTIMIZE {SILVER_TBL}\")\n",
    "\n",
    "print(f\"Silver(base) table ready: {CATALOG}.{SCHEMA}.{SILVER_TBL}\")"
   ]
  },
  {
   "cell_type": "markdown",
   "metadata": {
    "application/vnd.databricks.v1+cell": {
     "cellMetadata": {},
     "inputWidgets": {},
     "nuid": "9ead1235-b366-4f43-ad00-a8b872a18855",
     "showTitle": false,
     "tableResultSettingsMap": {},
     "title": ""
    }
   },
   "source": [
    "#### 3) Gold\n",
    "アンケート回答の自由記述（free_comment）からAIモデルを使って情報抽出する一連の処理を行っています。\n",
    "\n",
    "1. **抽出プロンプトの生成 (_nlp_promptビュー)**\n",
    "   - 各回答のfree_commentに対し、AIモデルに渡すプロンプト（指示文）を作成します。\n",
    "   - ポジティブ要素、ネガティブ要素、飲用シーンを簡潔かつサマライズして抽出するよう指示しています。\n",
    "   - NULL値対策として`COALESCE(free_comment, '')`で空文字に変換しています。\n",
    "\n",
    "2. **AIモデルによる情報抽出 (_nlp_ai_rawビュー)**\n",
    "   - Databricksの`ai_query`関数を使い、指定したモデル（例: 'databricks-gpt-oss-120b'）にプロンプトを渡して構造化情報を抽出します。\n",
    "   - 抽出結果はSTRUCT型で返され、positive_points, negative_feedbacks, scenesが含まれます。\n",
    "\n",
    "3. **抽出結果のビュー化 (gold_survey_responses_nlpビュー)**\n",
    "   - 元データ（silver_survey_responses_base）とAI抽出結果をidで結合し、抽出情報を新しい列として展開します。"
   ]
  },
  {
   "cell_type": "code",
   "execution_count": 0,
   "metadata": {
    "application/vnd.databricks.v1+cell": {
     "cellMetadata": {
      "byteLimit": 2048000,
      "implicitDf": true,
      "rowLimit": 10000
     },
     "inputWidgets": {},
     "nuid": "a8fbda22-50b3-4d53-98de-d16419b8f0c5",
     "showTitle": false,
     "tableResultSettingsMap": {},
     "title": ""
    }
   },
   "outputs": [],
   "source": [
    "%sql\n",
    "-- 1) 抽出プロンプト（できるだけ簡潔＆安定）\n",
    "--    - % や複雑な装飾を避け、文字列はシンプルに\n",
    "CREATE OR REPLACE TEMP VIEW _nlp_prompt AS\n",
    "SELECT\n",
    "  id,\n",
    "  free_comment,\n",
    "  CONCAT(\n",
    "    '以下の日本語の感想文から情報抽出してください。',\n",
    "    '\\n\\n[出力仕様]',\n",
    "    '\\n- positive_points: 感想の中のポジティブな意見のうち、最も強調されているものを短文で一つ抽出してください（例: 香りがよい、後味がすっきり）。同様の内容などは一つの文章にまとめ上げるなど、サマライズして、冗長さを取り除いて、簡潔にしてください。そして、日本語で出力してください。句読点などは不要です。ただし、シーンに関するポジティブな言及はscenesに含め、positive_pointsには含めないでください。',\n",
    "    '\\n- negative_feedbacks: ネガティブな意見、または、要望や提案のうち、最も強調されているものを短文で一つ抽出してください。同様の内容などは一つの文章にまとめ上げるなど、サマライズして、冗長さを取り除いて、簡潔にしてください。原文の言葉表現がカジュアルな場合は、同じ意味のビジネスライクな表現に書き直してください。そして、日本語で出力してください。句読点などは不要です。',\n",
    "    '\\n- scenes: 飲用シーン（例: 夕食、風呂上がり、運転前、スポーツ後 など）のうち、最も強調されているものを単語で一つ出力してください。同様の内容などは一つのワードにまとめ上げるなど、サマライズして、冗長さを取り除いて、簡潔にしてください。そして、日本語で出力してください。句読点などは不要です。',\n",
    "    '\\n\\n[出力形式]',\n",
    "    '\\n構造化: positive_point, negative_feedback, scene',\n",
    "    '\\n\\n[対象の感想文]\\n',\n",
    "    COALESCE(free_comment, '')\n",
    "  ) AS prompt\n",
    "FROM silver_survey_responses_base\n",
    "WHERE COALESCE(TRIM(free_comment), '') <> '';\n",
    "\n",
    "-- 2) ai_query() 実行\n",
    "--    - 自分のモデルエンドポイント名に置き換えてください（例: 'databricks-claude-3-7-sonnet' など）\n",
    "--    - responseFormat を STRUCT で指定して、そのまま列展開できるようにします\n",
    "CREATE OR REPLACE TEMP VIEW _nlp_ai_raw AS\n",
    "SELECT\n",
    "  p.id,\n",
    "  ai_query(\n",
    "    'databricks-gpt-oss-120b',\n",
    "    p.prompt,\n",
    "    responseFormat => 'STRUCT<\n",
    "      feedback_extraction:STRUCT<\n",
    "        positive_point: STRING,\n",
    "        negative_feedback: STRING,\n",
    "        scene: STRING\n",
    "      >\n",
    "    >'\n",
    "  ) AS out\n",
    "FROM _nlp_prompt p;\n",
    "\n",
    "-- 3) サブSTRUCT配下を正しく参照する\n",
    "CREATE OR REPLACE TEMP VIEW gold_survey_responses_nlp AS\n",
    "SELECT\n",
    "  b.id,\n",
    "  b.submitted_at,\n",
    "  b.age_group,\n",
    "  b.gender,\n",
    "  b.occupation,\n",
    "  b.region,\n",
    "  b.drives_weekly,\n",
    "  b.drinking_freq,\n",
    "  b.fav_alcohols_arr,\n",
    "  b.nonalc_freq,\n",
    "  b.health_reasons_arr,\n",
    "  b.purchase_intent,\n",
    "  b.price_band,\n",
    "  b.satisfaction_int,\n",
    "  b.free_comment,\n",
    "  r.out:positive_point     AS positive_point,\n",
    "  r.out:negative_feedback  AS negative_feedback,\n",
    "  r.out:scene              AS scene\n",
    "FROM silver_survey_responses_base b\n",
    "LEFT JOIN _nlp_ai_raw r USING (id);\n",
    "\n",
    "SELECT * FROM gold_survey_responses_nlp LIMIT 10;"
   ]
  },
  {
   "cell_type": "markdown",
   "metadata": {
    "application/vnd.databricks.v1+cell": {
     "cellMetadata": {},
     "inputWidgets": {},
     "nuid": "ea967167-3c96-42ab-8158-466386d1222b",
     "showTitle": false,
     "tableResultSettingsMap": {},
     "title": ""
    }
   },
   "source": [
    "4. **AIモデルによる文章分類結果を追加してテーブル化 (gold_survey_responses_finalテーブル)**\n",
    "   - AIモデルを使ってポジティブコメントとネガティブコメントを分類し、その結果を新規列として追加した後Tableとして保存。"
   ]
  },
  {
   "cell_type": "code",
   "execution_count": 0,
   "metadata": {
    "application/vnd.databricks.v1+cell": {
     "cellMetadata": {
      "byteLimit": 2048000,
      "implicitDf": true,
      "rowLimit": 10000
     },
     "inputWidgets": {},
     "nuid": "f9e09bb0-d713-46ad-b073-1ab546e56ae4",
     "showTitle": false,
     "tableResultSettingsMap": {
      "0": {
       "dataGridStateBlob": "{\"version\":1,\"tableState\":{\"columnPinning\":{\"left\":[\"#row_number#\"],\"right\":[]},\"columnSizing\":{},\"columnVisibility\":{}},\"settings\":{\"columns\":{}},\"syncTimestamp\":1760156707299}",
       "filterBlob": null,
       "queryPlanFiltersBlob": null,
       "tableResultIndex": 0
      }
     },
     "title": ""
    }
   },
   "outputs": [],
   "source": [
    "%sql\n",
    "\n",
    "-- 1. Store the guideline text in a table to avoid session variable size limits\n",
    "CREATE OR REPLACE TEMP VIEW guideline_text_view AS\n",
    "SELECT '''\n",
    "以下のガイドに従って、コメントの内容を18個のクラスのいずれかに分類してください。ただし、コメントが空白の場合はNoneを出力してください。\n",
    "\n",
    "# 指標分類ガイドライン\n",
    "## 領域1: Sensory Quality ― 製品そのものの味わい\n",
    "### Appearance\n",
    "- 定義：色調、透明度、泡立ち、グラス映えなど外観に関する評価\n",
    "- キーワード例：「黄金色」「濁りが少ない」「泡がすぐ消える」\n",
    "- 除外例：缶の見た目やデザインは → `PackagingDesign`\n",
    "\n",
    "### Aroma\n",
    "- 定義：香り（ホップ、モルト、果実香、オフフレーバーなど）に関する記述\n",
    "- キーワード例：「トロピカルな香り」「ホップが弱い」「香りが薬品っぽい」\n",
    "- 除外例：味や後味の話 → `Flavor` / `DrinkabilityAftertaste`\n",
    "\n",
    "### Flavor\n",
    "- 定義：甘味、苦味、酸味、コク、バランス、余韻など味覚の構成\n",
    "- キーワード例：「麦の甘み」「苦みが強い」「人工甘味料っぽい味」\n",
    "- 除外例：香りに関する話 → `Aroma`\n",
    "\n",
    "### MouthfeelCarbonation\n",
    "- 定義：炭酸の強さ、粘度、ボディ感、舌触りなどの口当たり\n",
    "- キーワード例：「クリーミーな泡」「ガス弱め」「軽い口当たり」\n",
    "- 除外例：「飲みやすさ」は → `DrinkabilityAftertaste`\n",
    "\n",
    "### DrinkabilityAftertaste\n",
    "- 定義：飲みやすさ、ゴクゴク感、後味のキレや残り方\n",
    "- キーワード例：「ゴクゴク飲める」「後味がべたつく」「キレがある」\n",
    "- 除外例：味覚の詳細な記述 → `Flavor`\n",
    "\n",
    "## 領域2: Functional Health & Safety ― “飲める理由” を決める要素\n",
    "### ABV\n",
    "- 定義：アルコール度数、0.00% 表記、法的基準\n",
    "- キーワード例：「正真正銘0.00%」「0.3%なのが残念」\n",
    "- 除外例：「酔わないから安心」→ `SocialAcceptability` 併用可\n",
    "\n",
    "### CaloriesCarbs\n",
    "- 定義：カロリー、糖質量、栄養成分表示の明確さ\n",
    "- キーワード例：「100mlで8kcal」「糖質ゼロ」「栄養表示をもっと目立たせて」\n",
    "- 除外例：甘さの味覚は → `Flavor`\n",
    "\n",
    "### AdditivesAllergen\n",
    "- 定義：保存料、香料、人工甘味料、アレルゲン（例：グルテン）\n",
    "- キーワード例：「保存料不使用」「大麦アレルギー注意」\n",
    "- 除外例：素材自体の良さや産地 → `Ingredients`\n",
    "\n",
    "### Ingredients\n",
    "- 定義：使用されている素材そのものの質、産地、自然由来かどうか\n",
    "- キーワード例：「国産モルト使用」「○○渓谷の水」\n",
    "- 除外例：カロリーや添加物の話 → それぞれの該当項目へ\n",
    "\n",
    "## 領域3: Practical Usability ― 使い勝手・シーン適合性\n",
    "### PackagingDesign\n",
    "- 定義：缶・瓶の色、手触り、ロゴ、開けやすさなど外装デザイン\n",
    "- キーワード例：「マットな質感」「プルタブが硬い」「ラベルが可愛い」\n",
    "- 除外例：内容量やパック数の話 → `PackServingFormat`\n",
    "\n",
    "### PackServingFormat\n",
    "- 定義：容量バリエーション（250ml/350mlなど）やパッケージ形式（6本パックなど）\n",
    "- キーワード例：「250mlスリム缶」「6本パックが欲しい」\n",
    "- 除外例：価格そのものへの評価 → `PriceValue`\n",
    "\n",
    "### ShelfLifeStorage\n",
    "- 定義：賞味期限、常温保存の可否、開栓後の劣化速度\n",
    "- キーワード例：「常温保存OK」「開けたらすぐ劣化する」\n",
    "- 除外例：外装の物理的な強度や見た目 → `PackagingDesign`\n",
    "\n",
    "## 領域4: Economic & Availability ― 手に取りやすさ\n",
    "### PriceValue\n",
    "- 定義：価格、コスパ、値ごろ感に対する評価\n",
    "- キーワード例：「280円は高い」「この味でこの値段は安い」\n",
    "- 除外例：パッケージサイズ・構成 → `PackServingFormat`\n",
    "\n",
    "### Availability\n",
    "- 定義：購入のしやすさ、流通チャネル（コンビニ、ECなど）\n",
    "- キーワード例：「どこにも売ってない」「オンライン限定」\n",
    "- 除外例：値段が高い／安い → `PriceValue`\n",
    "\n",
    "### PromotionVisibility\n",
    "- 定義：広告・店頭POP・販促イベントなどの目立ち方や訴求力\n",
    "- キーワード例：「POPが目立つ」「試飲イベント良かった」\n",
    "- 除外例：ブランドの歴史や理念 → `BrandImageStory`\n",
    "\n",
    "## 領域5: Brand & Emotional Perception ― 心理的・社会的価値\n",
    "### BrandImageStory\n",
    "- 定義：ブランドの世界観、理念、クラフト感、物語性\n",
    "- キーワード例：「クラフト感がある」「創業者の想いに共感」\n",
    "- 除外例：具体的な環境配慮活動 → `SustainabilityEthics`\n",
    "\n",
    "### SocialAcceptability\n",
    "- 定義：運転中、妊娠中、仕事中などでも「飲んでOK」と思える感覚\n",
    "- キーワード例：「運転前に飲めて安心」「会議中でも飲める」\n",
    "- 除外例：ABVの数値のみの言及 → `ABV`（併用可）\n",
    "\n",
    "### SustainabilityEthics\n",
    "- 定義：環境配慮、リサイクル素材、公正取引、企業倫理\n",
    "- キーワード例：「再生アルミ缶」「CO₂削減」「ビーガン対応」\n",
    "- 除外例：ブランドのイメージ全般 → `BrandImageStory`\n",
    "''' AS guideline_text;\n",
    "\n",
    "-- =========================================\n",
    "-- 1) 分類プロンプトを行ごとに作成\n",
    "--    - 文字化け回避のため、できるだけシンプルなASCIIと箇条書き\n",
    "--    - 18カテゴリを厳密名で列挙（どれか1つを返す）\n",
    "-- =========================================\n",
    "CREATE OR REPLACE TEMP VIEW _fb_cls_prompt AS\n",
    "SELECT\n",
    "  r.*,      -- 1件の短文\n",
    "  CONCAT(\n",
    "    g.guideline_text,\n",
    "    '\\n\\n【ポジティブなコメント】',\n",
    "    '\\n', COALESCE(r.positive_point, '')\n",
    "  ) AS prompt_for_positive_point,\n",
    "  CONCAT(\n",
    "    g.guideline_text,\n",
    "    '\\n\\n【ネガティブなコメント】',\n",
    "    '\\n', COALESCE(r.negative_feedback, '')\n",
    "  ) AS prompt_for_negative_feedback\n",
    "FROM gold_survey_responses_nlp r\n",
    "CROSS JOIN guideline_text_view g;\n",
    "\n",
    "-- =========================================\n",
    "-- 2) ai_query() 実行\n",
    "--    - モデルエンドポイントは自分の環境のものに置換してください\n",
    "--    - STRUCTスキーマで受け取り、そのまま列展開可能\n",
    "-- =========================================\n",
    "CREATE OR REPLACE TEMP VIEW _fb_cls_raw AS\n",
    "SELECT\n",
    "  p.*,\n",
    "  ai_query(\n",
    "    'databricks-gpt-oss-120b',        -- ←あなたのエンドポイント名に変更\n",
    "    p.prompt_for_positive_point,\n",
    "    responseFormat => 'STRUCT<classification:STRUCT<category:STRING, confidence:DOUBLE>>'\n",
    "  ) AS positive_point_ai_out,\n",
    "  ai_query(\n",
    "    'databricks-gpt-oss-120b',        -- ←あなたのエンドポイント名に変更\n",
    "    p.prompt_for_negative_feedback,\n",
    "    responseFormat => 'STRUCT<classification:STRUCT<category:STRING, confidence:DOUBLE>>'\n",
    "  ) AS negative_feedback_ai_out\n",
    "FROM _fb_cls_prompt p;\n",
    "\n",
    "-- =========================================\n",
    "-- 3) 結果を正規の列に展開\n",
    "-- =========================================\n",
    "CREATE OR REPLACE TABLE gold_survey_responses_final AS\n",
    "SELECT\n",
    "  r.* EXCEPT(prompt_for_positive_point, prompt_for_negative_feedback, positive_point_ai_out, negative_feedback_ai_out),\n",
    "  positive_point_ai_out:category   AS positive_point_category,\n",
    "  positive_point_ai_out:confidence AS positive_point_confidence,\n",
    "  negative_feedback_ai_out:category   AS negative_feedback_category,\n",
    "  negative_feedback_ai_out:confidence AS negative_feedback_confidence\n",
    "FROM _fb_cls_raw r;\n",
    "\n",
    "SELECT * FROM gold_survey_responses_final LIMIT 10;"
   ]
  },
  {
   "cell_type": "code",
   "execution_count": 0,
   "metadata": {
    "application/vnd.databricks.v1+cell": {
     "cellMetadata": {
      "byteLimit": 2048000,
      "implicitDf": true,
      "rowLimit": 10000
     },
     "inputWidgets": {},
     "nuid": "e0796c51-ea14-4ce2-a91c-97efdae78883",
     "showTitle": false,
     "tableResultSettingsMap": {},
     "title": ""
    }
   },
   "outputs": [],
   "source": [
    "%sql\n",
    "\n",
    "-- ===== テーブル全体コメント =====\n",
    "COMMENT ON TABLE gold_survey_responses_final IS '\n",
    "アンケート回答データ。加えて、さまざまなデータ加工を行い、いくつかの分析用のデータを追加したもの。';\n",
    "\n",
    "-- ===== gold_survey_responses_final =====\n",
    "COMMENT ON COLUMN gold_survey_responses_final.id IS '回答一意識別子 (primary key)；feedback テーブルとの参照キー';\n",
    "COMMENT ON COLUMN gold_survey_responses_final.submitted_at IS '回答提出日時（タイムスタンプ）';\n",
    "COMMENT ON COLUMN gold_survey_responses_final.age_group IS '年代グループ（例: u19, 20s, 30s, 40s, 50s, 60plus）';\n",
    "COMMENT ON COLUMN gold_survey_responses_final.gender IS '性別カテゴリ：male, female, other, no_answer';\n",
    "COMMENT ON COLUMN gold_survey_responses_final.occupation IS '職業カテゴリ（例: company_employee, student, homemaker, other）';\n",
    "COMMENT ON COLUMN gold_survey_responses_final.region IS '地域カテゴリ（hokkaido_to_hoku, kanto, chubu, kinki, chugoku_shikoku, kyushu_okinawa, overseas, no_answer）';\n",
    "COMMENT ON COLUMN gold_survey_responses_final.drives_weekly IS '週1 回以上運転するかどうか（真偽値）';\n",
    "COMMENT ON COLUMN gold_survey_responses_final.drinking_freq IS '普段の飲酒頻度：daily, weekly, monthly, never';\n",
    "COMMENT ON COLUMN gold_survey_responses_final.fav_alcohols_arr IS '通常好む酒類（文字列、複数可）（ARRAY<STRING>）';\n",
    "COMMENT ON COLUMN gold_survey_responses_final.nonalc_freq IS 'ノンアル飲用頻度：first_time, sometimes, weekly';\n",
    "COMMENT ON COLUMN gold_survey_responses_final.health_reasons_arr IS 'health_reasons を配列化したもの（ARRAY<STRING>）';\n",
    "COMMENT ON COLUMN gold_survey_responses_final.purchase_intent IS '購入意向カテゴリ：def_buy, maybe, unsure, no';\n",
    "COMMENT ON COLUMN gold_survey_responses_final.price_band IS '許容価格帯カテゴリ（例: under199, 200_249, 250_299, 300_349, 350plus）';\n",
    "COMMENT ON COLUMN gold_survey_responses_final.satisfaction_int IS '満足度を整数型に変換したもの（1～5 の INT）';\n",
    "COMMENT ON COLUMN gold_survey_responses_final.free_comment IS '自由記述による感想文';\n",
    "COMMENT ON COLUMN gold_survey_responses_final.positive_point IS 'AI 抽出によるポジティブ文句群（ARRAY<STRING>）';\n",
    "COMMENT ON COLUMN gold_survey_responses_final.negative_feedback IS 'AI 抽出によるネガティブ・改善要望文句群（ARRAY<STRING>）';\n",
    "COMMENT ON COLUMN gold_survey_responses_final.scene IS '飲用シーン語句（ARRAY<STRING>）';\n",
    "COMMENT ON COLUMN gold_survey_responses_final.positive_point_category IS '\n",
    "positive_pointの分類カテゴリ：以下 18 種類のいずれか。  \n",
    "1. Appearance：外観・見た目（色・透明度・泡質）  \n",
    "2. Aroma：香り（ホップ香・モルト香・果実香・オフ香）  \n",
    "3. Flavor：味覚（甘味・苦味・酸味・コク・バランス）  \n",
    "4. MouthfeelCarbonation：口当たり・炭酸感（泡・ガス強度・舌触り）  \n",
    "5. DrinkabilityAftertaste：飲みやすさ・後味（ゴクゴク・キレ・残留感）  \n",
    "6. ABV：アルコール度数への言及（例: “0.00%”）  \n",
    "7. CaloriesCarbs：カロリー・糖質関係の言及  \n",
    "8. AdditivesAllergen：添加物・香料・アレルゲンの言及  \n",
    "9. Ingredients：原材料・素材・産地・自然由来  \n",
    "10. PackagingDesign：包装・ラベル・外装デザイン  \n",
    "11. PackServingFormat：容量・パッケージ形態（缶・瓶・パック数）  \n",
    "12. ShelfLifeStorage：保存性・賞味期限・開封後品質  \n",
    "13. PriceValue：価格・コスパ・値ごろ感  \n",
    "14. Availability：流通性・店舗・EC 販売可能性  \n",
    "15. PromotionVisibility：販促・広告・POP・訴求力  \n",
    "16. BrandImageStory：ブランドイメージ・理念・物語性  \n",
    "17. SocialAcceptability：運転中・妊娠中などでも飲める許容感  \n",
    "18. SustainabilityEthics：環境配慮・サステナビリティ・倫理性';\n",
    "COMMENT ON COLUMN gold_survey_responses_final.positive_point_confidence IS 'positive_point_category に対するConfidence Score。分類信頼度（0.0～1.0）';\n",
    "COMMENT ON COLUMN gold_survey_responses_final.negative_feedback_category IS '\n",
    "negative_feedbackの分類カテゴリ：以下 18 種類のいずれか。  \n",
    "1. Appearance：外観・見た目（色・透明度・泡質）  \n",
    "2. Aroma：香り（ホップ香・モルト香・果実香・オフ香）  \n",
    "3. Flavor：味覚（甘味・苦味・酸味・コク・バランス）  \n",
    "4. MouthfeelCarbonation：口当たり・炭酸感（泡・ガス強度・舌触り）  \n",
    "5. DrinkabilityAftertaste：飲みやすさ・後味（ゴクゴク・キレ・残留感）  \n",
    "6. ABV：アルコール度数への言及（例: “0.00%”）  \n",
    "7. CaloriesCarbs：カロリー・糖質関係の言及  \n",
    "8. AdditivesAllergen：添加物・香料・アレルゲンの言及  \n",
    "9. Ingredients：原材料・素材・産地・自然由来  \n",
    "10. PackagingDesign：包装・ラベル・外装デザイン  \n",
    "11. PackServingFormat：容量・パッケージ形態（缶・瓶・パック数）  \n",
    "12. ShelfLifeStorage：保存性・賞味期限・開封後品質  \n",
    "13. PriceValue：価格・コスパ・値ごろ感  \n",
    "14. Availability：流通性・店舗・EC 販売可能性  \n",
    "15. PromotionVisibility：販促・広告・POP・訴求力  \n",
    "16. BrandImageStory：ブランドイメージ・理念・物語性  \n",
    "17. SocialAcceptability：運転中・妊娠中などでも飲める許容感  \n",
    "18. SustainabilityEthics：環境配慮・サステナビリティ・倫理性';\n",
    "COMMENT ON COLUMN gold_survey_responses_final.negative_feedback_confidence IS 'negative_feedback_category に対するConfidence Score。分類信頼度（0.0～1.0）';"
   ]
  },
  {
   "cell_type": "code",
   "execution_count": 0,
   "metadata": {
    "application/vnd.databricks.v1+cell": {
     "cellMetadata": {
      "byteLimit": 2048000,
      "implicitDf": true,
      "rowLimit": 10000
     },
     "inputWidgets": {},
     "nuid": "36383636-a309-4c2b-b39a-0994cf55c236",
     "showTitle": false,
     "tableResultSettingsMap": {},
     "title": ""
    }
   },
   "outputs": [],
   "source": [
    "%sql\n",
    "DESCRIBE hiroshi.survey_analysis_simple.gold_survey_responses_final"
   ]
  },
  {
   "cell_type": "code",
   "execution_count": 0,
   "metadata": {
    "application/vnd.databricks.v1+cell": {
     "cellMetadata": {},
     "inputWidgets": {},
     "nuid": "993723c3-ab41-4ce7-953d-05addcf4ad88",
     "showTitle": false,
     "tableResultSettingsMap": {},
     "title": ""
    }
   },
   "outputs": [],
   "source": []
  }
 ],
 "metadata": {
  "application/vnd.databricks.v1+notebook": {
   "computePreferences": {
    "hardware": {
     "accelerator": null,
     "gpuPoolId": null,
     "memory": null
    }
   },
   "dashboards": [],
   "environmentMetadata": {
    "base_environment": "",
    "environment_version": "3"
   },
   "inputWidgetPreferences": null,
   "language": "python",
   "notebookMetadata": {
    "mostRecentlyExecutedCommandWithImplicitDF": {
     "commandId": 286130593845757,
     "dataframes": [
      "_sqldf"
     ]
    },
    "pythonIndentUnit": 4
   },
   "notebookName": "01.データ加工",
   "widgets": {}
  },
  "language_info": {
   "name": "python"
  }
 },
 "nbformat": 4,
 "nbformat_minor": 0
}
